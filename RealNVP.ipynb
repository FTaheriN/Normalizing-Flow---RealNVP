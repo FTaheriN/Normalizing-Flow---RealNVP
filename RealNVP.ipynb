{
  "nbformat": 4,
  "nbformat_minor": 0,
  "metadata": {
    "colab": {
      "provenance": [],
      "collapsed_sections": [
        "4NFRYirfkSxA",
        "JwS98hZlaYng"
      ],
      "gpuType": "T4"
    },
    "kernelspec": {
      "name": "python3",
      "display_name": "Python 3"
    },
    "language_info": {
      "name": "python"
    },
    "accelerator": "GPU"
  },
  "cells": [
    {
      "cell_type": "code",
      "execution_count": 1,
      "metadata": {
        "id": "r4RTcP3jT9k5"
      },
      "outputs": [],
      "source": [
        "import numpy as np\n",
        "from tqdm import tqdm\n",
        "\n",
        "import torch\n",
        "import torch.nn.functional as F\n",
        "from torch import autograd, nn, optim,  distributions\n",
        "from torch.distributions import MultivariateNormal\n",
        "from torchvision import datasets, transforms"
      ]
    },
    {
      "cell_type": "code",
      "source": [
        "batch_size = 256\n",
        "device = torch.device('cuda' if torch.cuda.is_available() else 'cpu')\n",
        "print(device)"
      ],
      "metadata": {
        "colab": {
          "base_uri": "https://localhost:8080/"
        },
        "id": "wHOpnvnYUsoV",
        "outputId": "16760b5f-b59f-4408-8c44-6a907c9a8878"
      },
      "execution_count": 2,
      "outputs": [
        {
          "output_type": "stream",
          "name": "stdout",
          "text": [
            "cuda\n"
          ]
        }
      ]
    },
    {
      "cell_type": "markdown",
      "metadata": {
        "id": "9b8f37be-71b9-42d5-a055-81760ca991a1"
      },
      "source": [
        "### Load dataset"
      ]
    },
    {
      "cell_type": "code",
      "execution_count": 3,
      "metadata": {
        "id": "9f0cf280-eaba-4685-92ec-53274e179329"
      },
      "outputs": [],
      "source": [
        "def get_mnist_data(device, batch_size):\n",
        "    preprocess = transforms.Compose([transforms.ToTensor(), transforms.Normalize((0.1307,), (0.3081,)) ])\n",
        "    train_loader = torch.utils.data.DataLoader(\n",
        "        datasets.MNIST('data', train=True, download=True, transform=preprocess),\n",
        "        batch_size=batch_size,\n",
        "        shuffle=True)\n",
        "    test_loader = torch.utils.data.DataLoader(\n",
        "        datasets.MNIST('data', train=False, download=True, transform=preprocess),\n",
        "        batch_size=batch_size,\n",
        "        shuffle=True)\n",
        "\n",
        "    return train_loader, test_loader\n",
        "\n",
        "train_loader, test_loader = get_mnist_data(device, batch_size)"
      ]
    },
    {
      "cell_type": "markdown",
      "source": [
        "### test data"
      ],
      "metadata": {
        "id": "4NFRYirfkSxA"
      }
    },
    {
      "cell_type": "code",
      "source": [
        "# Create pre-processed training and test sets\n",
        "X_train = train_loader.dataset.train_data.to(device).reshape(-1, 784).float() / 255\n",
        "y_train = train_loader.dataset.train_labels.to(device)\n",
        "X_test = test_loader.dataset.test_data.to(device).reshape(-1, 784).float() / 255\n",
        "y_test = test_loader.dataset.test_labels.to(device)"
      ],
      "metadata": {
        "id": "ReJgptF9U9Hy"
      },
      "execution_count": null,
      "outputs": []
    },
    {
      "cell_type": "code",
      "source": [
        "x = torch.arange(8)\n",
        "for _ in range(4):\n",
        "    x = torch.flip(x, [0])\n",
        "    print(x)\n",
        "x"
      ],
      "metadata": {
        "colab": {
          "base_uri": "https://localhost:8080/"
        },
        "id": "Yno3v4YyWrFi",
        "outputId": "3d3b292f-05a4-42e3-bf2c-05f9e9bf13ee"
      },
      "execution_count": null,
      "outputs": [
        {
          "output_type": "stream",
          "name": "stdout",
          "text": [
            "tensor([7, 6, 5, 4, 3, 2, 1, 0])\n",
            "tensor([0, 1, 2, 3, 4, 5, 6, 7])\n",
            "tensor([7, 6, 5, 4, 3, 2, 1, 0])\n",
            "tensor([0, 1, 2, 3, 4, 5, 6, 7])\n"
          ]
        },
        {
          "output_type": "execute_result",
          "data": {
            "text/plain": [
              "tensor([0, 1, 2, 3, 4, 5, 6, 7])"
            ]
          },
          "metadata": {},
          "execution_count": 22
        }
      ]
    },
    {
      "cell_type": "code",
      "source": [
        "x.chunk(2)"
      ],
      "metadata": {
        "colab": {
          "base_uri": "https://localhost:8080/"
        },
        "id": "0coLAee8WycR",
        "outputId": "f1e7b224-0daa-46c0-9ca7-fce0203b58ae"
      },
      "execution_count": null,
      "outputs": [
        {
          "output_type": "execute_result",
          "data": {
            "text/plain": [
              "(tensor([0, 1, 2, 3]), tensor([4, 5, 6, 7]))"
            ]
          },
          "metadata": {},
          "execution_count": 8
        }
      ]
    },
    {
      "cell_type": "code",
      "source": [
        "H, W = 4, 4\n",
        "mask = np.arange(H).reshape(-1, 1) + np.arange(W)\n",
        "mask"
      ],
      "metadata": {
        "colab": {
          "base_uri": "https://localhost:8080/"
        },
        "id": "5R7Z2c0abU8q",
        "outputId": "fe9bb551-9864-4503-a285-fdc934f30be4"
      },
      "execution_count": null,
      "outputs": [
        {
          "output_type": "execute_result",
          "data": {
            "text/plain": [
              "array([[0, 1, 2, 3],\n",
              "       [1, 2, 3, 4],\n",
              "       [2, 3, 4, 5],\n",
              "       [3, 4, 5, 6]])"
            ]
          },
          "metadata": {},
          "execution_count": 10
        }
      ]
    },
    {
      "cell_type": "code",
      "source": [
        "mask = np.mod(True + mask, 2)\n",
        "mask"
      ],
      "metadata": {
        "colab": {
          "base_uri": "https://localhost:8080/"
        },
        "id": "q8hgXPZGbU_h",
        "outputId": "d48dafa4-e946-42ef-fdad-07b7173dd622"
      },
      "execution_count": null,
      "outputs": [
        {
          "output_type": "execute_result",
          "data": {
            "text/plain": [
              "array([[[[0, 1, 0, 1],\n",
              "         [1, 0, 1, 0],\n",
              "         [0, 1, 0, 1],\n",
              "         [1, 0, 1, 0]]]])"
            ]
          },
          "metadata": {},
          "execution_count": 18
        }
      ]
    },
    {
      "cell_type": "code",
      "source": [
        "mask = mask.reshape(-1, 1, H, W)\n",
        "mask"
      ],
      "metadata": {
        "colab": {
          "base_uri": "https://localhost:8080/"
        },
        "id": "mPu1OdOPbVCY",
        "outputId": "06ba3324-7131-40f2-edaf-c48dd3d15654"
      },
      "execution_count": null,
      "outputs": [
        {
          "output_type": "execute_result",
          "data": {
            "text/plain": [
              "array([[[[1, 0, 1, 0],\n",
              "         [0, 1, 0, 1],\n",
              "         [1, 0, 1, 0],\n",
              "         [0, 1, 0, 1]]]])"
            ]
          },
          "metadata": {},
          "execution_count": 12
        }
      ]
    },
    {
      "cell_type": "markdown",
      "source": [
        "## RealNVP Model"
      ],
      "metadata": {
        "id": "NFLjADrTVBW0"
      }
    },
    {
      "cell_type": "markdown",
      "source": [
        "### CouplingLayer"
      ],
      "metadata": {
        "id": "WA_H9R7-iWdy"
      }
    },
    {
      "cell_type": "code",
      "source": [
        "# --- defines the model and the optimizer ---- #\n",
        "class CouplingLayer(nn.Module):\n",
        "    def __init__(self, input_dim, output_dim, hid_dim):\n",
        "        super().__init__()\n",
        "        self.input_dim = input_dim // 2\n",
        "        self.output_dim = output_dim //2\n",
        "\n",
        "        self.s = nn.Sequential( nn.Linear(self.input_dim, hid_dim),\n",
        "                                nn.ReLU(),\n",
        "                                nn.Linear(hid_dim, hid_dim),\n",
        "                                nn.ReLU(),\n",
        "                                nn.Linear(hid_dim, self.output_dim),\n",
        "                                nn.Tanh())\n",
        "\n",
        "        self.t = nn.Sequential( nn.Linear(self.input_dim, hid_dim),\n",
        "                        nn.ReLU(),\n",
        "                        nn.Linear(hid_dim, hid_dim),\n",
        "                        nn.ReLU(),\n",
        "                        nn.Linear(hid_dim, self.output_dim))\n",
        "\n",
        "\n",
        "    def forward(self, x):\n",
        "        x1, x2 = x.chunk(2, dim=1)\n",
        "        s_transformed = self.s(x1)\n",
        "        t_transformed = self.t(x1)\n",
        "\n",
        "        y2 = x2 * torch.exp(self.s(x1))+self.t(x1)\n",
        "\n",
        "        z = torch.cat([x1, y2], dim=1)\n",
        "\n",
        "        log_det_jac = s_transformed.sum(dim=1)\n",
        "\n",
        "        return z, log_det_jac\n",
        "\n",
        "\n",
        "    def backward(self, y):\n",
        "        y1, y2 = y.chunk(2, dim=1)\n",
        "        s_transformed = self.s(y1)\n",
        "        t_transformed = self.t(y2)\n",
        "        x2 = (y2-t_transformed) * torch.exp(-s_transformed)\n",
        "        x = torch.cat([y1,x2], dim=1)\n",
        "        return x"
      ],
      "metadata": {
        "id": "S3VdipYGVVN7"
      },
      "execution_count": 4,
      "outputs": []
    },
    {
      "cell_type": "markdown",
      "source": [
        "### RealNVP"
      ],
      "metadata": {
        "id": "K8pfswSuiZCw"
      }
    },
    {
      "cell_type": "code",
      "source": [
        "class RealNVP(nn.Module):\n",
        "    def __init__(self, input_dim, output_dim, hid_dim, n_layers = 4):\n",
        "        super().__init__()\n",
        "\n",
        "        self.prior = MultivariateNormal(torch.zeros(input_dim, device=device), torch.eye(input_dim, device=device))\n",
        "        self.modules = []\n",
        "        for _ in range(n_layers):\n",
        "            self.modules.append(CouplingLayer(input_dim, output_dim, hid_dim))\n",
        "        self.module_list = nn.ModuleList(self.modules)\n",
        "\n",
        "    def forward(self, x):\n",
        "        bsz, _ = x.shape\n",
        "        ldj_sum = torch.zeros(bsz).to(device) # sum of log determinant of jacobian\n",
        "\n",
        "        for module in self.module_list:\n",
        "            x, ldj= module(x)\n",
        "            ldj_sum += ldj\n",
        "            x = torch.flip(x, [1])\n",
        "        return x, ldj_sum\n",
        "\n",
        "    def backward(self, z):\n",
        "        for module in reversed(self.module_list):\n",
        "            z = module.backward(z)\n",
        "        return z\n",
        "\n",
        "    def sample(self, n_samples):\n",
        "        z = self.prior.sample((n_samples,))\n",
        "        x = self.backward(z)\n",
        "        return x"
      ],
      "metadata": {
        "id": "N4rTuMluiTjx"
      },
      "execution_count": 5,
      "outputs": []
    },
    {
      "cell_type": "markdown",
      "source": [
        "## Train Model"
      ],
      "metadata": {
        "id": "z7uglUNlknm3"
      }
    },
    {
      "cell_type": "markdown",
      "source": [
        "### Utils\n"
      ],
      "metadata": {
        "id": "oyGacKR21Qvw"
      }
    },
    {
      "cell_type": "code",
      "source": [
        "import csv\n",
        "\n",
        "\n",
        "def save_report(train_loss, test_loss):\n",
        "    file_path = \"/content/report.csv\"\n",
        "    rows = zip(train_loss, test_loss)\n",
        "    headers = ['train_loss', 'test_loss']\n",
        "\n",
        "    with open(file_path, \"w\") as f:\n",
        "        writer = csv.writer(f)\n",
        "        writer.writerow([g for g in headers])\n",
        "        for row in rows:\n",
        "            writer.writerow(row)\n",
        "    return"
      ],
      "metadata": {
        "id": "MfeAoDhJKxt4"
      },
      "execution_count": 6,
      "outputs": []
    },
    {
      "cell_type": "code",
      "source": [
        "import matplotlib.pyplot as plt\n",
        "\n",
        "\n",
        "def plot_loss(train_loss, test_loss):\n",
        "    _, axes = plt.subplots(1, 1, figsize=(4, 4))\n",
        "    plt.suptitle(\"Train and Test Loss During Training\", size=16)\n",
        "    axes.plot(list(range(1, len(train_loss)+1)), train_loss, 'b',label='train loss')\n",
        "    axes.plot(list(range(1, len(train_loss)+1)), test_loss, 'r', label='test loss')\n",
        "    axes.set_ylabel('Loss ', size=12, labelpad=7)\n",
        "    axes.set_xlabel('Epoch', size=12, labelpad=10)\n",
        "    axes.legend(loc='upper right', fontsize=10)\n",
        "    axes.grid()\n",
        "\n",
        "    plt.show()\n",
        "\n",
        "def plot_samples(model):\n",
        "\n",
        "    model.eval()\n",
        "    x_s = model.sample(16)\n",
        "    x_s = x_s.reshape(16, 28, 28)\n",
        "\n",
        "    fig, axes = plt.subplots(nrows=4, ncols=4, figsize=(8,8), sharex=True, sharey=True)\n",
        "    fig.suptitle('Generated samples')\n",
        "\n",
        "    c = 0\n",
        "    for i, ax in enumerate(axes.flatten()):\n",
        "        ax.imshow(x_s[i].detach().cpu().numpy(), cmap = 'gist_yarg')\n",
        "\n",
        "        ax.axis('off')\n",
        "\n",
        "    plt.show()"
      ],
      "metadata": {
        "id": "xER9PvuNH7mN"
      },
      "execution_count": 19,
      "outputs": []
    },
    {
      "cell_type": "markdown",
      "source": [
        "### Train"
      ],
      "metadata": {
        "id": "9-CYYYU-8v5F"
      }
    },
    {
      "cell_type": "code",
      "source": [
        "INPUT_DIM = 28*28\n",
        "HIDDEN_DIM = 256\n",
        "OUTPUT_DIM = 28*28\n",
        "N_COUPLE_LAYERS = 4"
      ],
      "metadata": {
        "id": "hLA_MWFSkrWF"
      },
      "execution_count": 8,
      "outputs": []
    },
    {
      "cell_type": "code",
      "source": [
        "model = RealNVP(INPUT_DIM, OUTPUT_DIM, HIDDEN_DIM,N_COUPLE_LAYERS).to(device)\n",
        "optimizer = torch.optim.Adam(model.parameters(), lr=1e-4)\n",
        "scheduler = torch.optim.lr_scheduler.StepLR(optimizer, step_size=5, gamma=0.8)\n",
        "prior_z = distributions.MultivariateNormal(torch.zeros(OUTPUT_DIM).to(device), torch.eye(OUTPUT_DIM).to(device))"
      ],
      "metadata": {
        "id": "CCUtVq7ikc4k"
      },
      "execution_count": 9,
      "outputs": []
    },
    {
      "cell_type": "code",
      "source": [
        "def test(epoch):\n",
        "    model.eval()\n",
        "    test_loss = 0\n",
        "    with torch.no_grad():\n",
        "        loop_test = tqdm(enumerate(test_loader, 1), total=len(test_loader), desc=\"test\", position=0, leave=True)\n",
        "        for batch_idx, (x, y) in loop_test:\n",
        "            x = x.to(device).reshape(x.size(0), -1)\n",
        "            z, log_det_j_sum = model(x)\n",
        "            cur_loss = -(prior_z.log_prob(z)+torch.abs(log_det_j_sum)).mean().item()\n",
        "            test_loss += cur_loss\n",
        "\n",
        "            optimizer.zero_grad()\n",
        "\n",
        "\n",
        "            loop_test.set_description(f\"test - epoch : {epoch}\")\n",
        "            loop_test.set_postfix(\n",
        "                    loss=\"{}\".format(cur_loss),\n",
        "                    refresh=True,\n",
        "            )\n",
        "\n",
        "    return test_loss/len(test_loader)"
      ],
      "metadata": {
        "id": "jMFiofyoz0aY"
      },
      "execution_count": 10,
      "outputs": []
    },
    {
      "cell_type": "code",
      "source": [
        "def train(epochs):\n",
        "    ls_train_loss, ls_test_loss = [], []\n",
        "    model.train()\n",
        "    for epoch in tqdm(range(epochs)):\n",
        "        train_loss = 0\n",
        "        loop_train = tqdm(enumerate(train_loader, 1), total=len(train_loader), desc=\"train\", position=0, leave=True)\n",
        "        for index, (x, y) in loop_train:\n",
        "            x = x.to(device).reshape(x.size(0), -1)\n",
        "            optimizer.zero_grad()\n",
        "            z, log_det_j_sum = model(x)\n",
        "            loss = -(prior_z.log_prob(z)+torch.abs(log_det_j_sum)).mean()\n",
        "            loss.backward()\n",
        "            cur_loss = loss.item()\n",
        "            train_loss += cur_loss\n",
        "            optimizer.step()\n",
        "\n",
        "\n",
        "            loop_train.set_description(f\"train - epoch : {epoch}\")\n",
        "            loop_train.set_postfix(\n",
        "                        loss=\"{}\".format(cur_loss),\n",
        "                        log = \"{}\".format(prior_z.log_prob(z).mean()),\n",
        "                        det = \"{}\".format(torch.abs(log_det_j_sum).mean()),\n",
        "                        refresh=True,)\n",
        "\n",
        "        test_loss = test(epoch)\n",
        "        print(\"epoch train loss: \", train_loss / len(train_loader))\n",
        "        scheduler.step()\n",
        "\n",
        "        ls_train_loss.append(train_loss / len(train_loader))\n",
        "        ls_test_loss.append(test_loss)\n",
        "\n",
        "    return ls_train_loss, ls_test_loss"
      ],
      "metadata": {
        "id": "Ri-azn0PzsyJ"
      },
      "execution_count": 11,
      "outputs": []
    },
    {
      "cell_type": "markdown",
      "source": [
        "#### 200 1e-4"
      ],
      "metadata": {
        "id": "jIEWWayEaUII"
      }
    },
    {
      "cell_type": "code",
      "source": [
        "ls_train_loss, ls_test_loss = train(200)\n",
        "save_report(ls_train_loss, ls_test_loss)\n",
        "plot_loss(ls_train_loss, ls_test_loss)"
      ],
      "metadata": {
        "colab": {
          "base_uri": "https://localhost:8080/",
          "height": 1000
        },
        "id": "8UdHQ_70rwHC",
        "outputId": "fc886679-12dc-4b50-c45c-41131cf3deec"
      },
      "execution_count": 12,
      "outputs": [
        {
          "output_type": "stream",
          "name": "stderr",
          "text": [
            "train - epoch : 0: 100%|██████████| 235/235 [00:16<00:00, 14.00it/s, det=907.6666870117188, log=-925.4849853515625, loss=17.818260192871094]\n",
            "test - epoch : 0: 100%|██████████| 40/40 [00:02<00:00, 17.29it/s, loss=34.30238342285156]\n",
            "  0%|          | 1/200 [00:19<1:03:23, 19.11s/it]"
          ]
        },
        {
          "output_type": "stream",
          "name": "stdout",
          "text": [
            "epoch train loss:  326.98432147249264\n"
          ]
        },
        {
          "output_type": "stream",
          "name": "stderr",
          "text": [
            "train - epoch : 1: 100%|██████████| 235/235 [00:17<00:00, 13.57it/s, det=1009.0985107421875, log=-913.0294799804688, loss=-96.06901550292969]\n",
            "test - epoch : 1: 100%|██████████| 40/40 [00:02<00:00, 13.94it/s, loss=-174.90438842773438]\n",
            "  1%|          | 2/200 [00:39<1:05:11, 19.76s/it]"
          ]
        },
        {
          "output_type": "stream",
          "name": "stdout",
          "text": [
            "epoch train loss:  -60.53264870136342\n"
          ]
        },
        {
          "output_type": "stream",
          "name": "stderr",
          "text": [
            "train - epoch : 2: 100%|██████████| 235/235 [00:17<00:00, 13.70it/s, det=1078.947998046875, log=-889.1232299804688, loss=-189.82467651367188]\n",
            "test - epoch : 2: 100%|██████████| 40/40 [00:02<00:00, 17.57it/s, loss=-226.5130615234375]\n",
            "  2%|▏         | 3/200 [00:58<1:04:24, 19.62s/it]"
          ]
        },
        {
          "output_type": "stream",
          "name": "stdout",
          "text": [
            "epoch train loss:  -155.21102830602769\n"
          ]
        },
        {
          "output_type": "stream",
          "name": "stderr",
          "text": [
            "train - epoch : 3: 100%|██████████| 235/235 [00:17<00:00, 13.08it/s, det=1087.6868896484375, log=-897.34033203125, loss=-190.3466033935547]\n",
            "test - epoch : 3: 100%|██████████| 40/40 [00:02<00:00, 17.37it/s, loss=-180.99713134765625]\n",
            "  2%|▏         | 4/200 [01:19<1:04:57, 19.88s/it]"
          ]
        },
        {
          "output_type": "stream",
          "name": "stdout",
          "text": [
            "epoch train loss:  -207.25049185245595\n"
          ]
        },
        {
          "output_type": "stream",
          "name": "stderr",
          "text": [
            "train - epoch : 4: 100%|██████████| 235/235 [00:17<00:00, 13.25it/s, det=1140.894775390625, log=-881.9542236328125, loss=-258.9404602050781]\n",
            "test - epoch : 4: 100%|██████████| 40/40 [00:02<00:00, 17.33it/s, loss=-277.9197998046875]\n",
            "  2%|▎         | 5/200 [01:39<1:04:49, 19.95s/it]"
          ]
        },
        {
          "output_type": "stream",
          "name": "stdout",
          "text": [
            "epoch train loss:  -242.2011768097573\n"
          ]
        },
        {
          "output_type": "stream",
          "name": "stderr",
          "text": [
            "train - epoch : 5: 100%|██████████| 235/235 [00:16<00:00, 13.92it/s, det=1147.9725341796875, log=-872.53564453125, loss=-275.4368591308594]\n",
            "test - epoch : 5: 100%|██████████| 40/40 [00:02<00:00, 17.20it/s, loss=-276.6622314453125]\n",
            "  3%|▎         | 6/200 [01:58<1:03:42, 19.70s/it]"
          ]
        },
        {
          "output_type": "stream",
          "name": "stdout",
          "text": [
            "epoch train loss:  -267.7400835402468\n"
          ]
        },
        {
          "output_type": "stream",
          "name": "stderr",
          "text": [
            "train - epoch : 6: 100%|██████████| 235/235 [00:17<00:00, 13.80it/s, det=1166.53173828125, log=-871.2900390625, loss=-295.24169921875]\n",
            "test - epoch : 6: 100%|██████████| 40/40 [00:03<00:00, 12.73it/s, loss=-277.17987060546875]\n",
            "  4%|▎         | 7/200 [02:18<1:03:53, 19.86s/it]"
          ]
        },
        {
          "output_type": "stream",
          "name": "stdout",
          "text": [
            "epoch train loss:  -285.5450125187001\n"
          ]
        },
        {
          "output_type": "stream",
          "name": "stderr",
          "text": [
            "train - epoch : 7: 100%|██████████| 235/235 [00:16<00:00, 14.07it/s, det=1185.063232421875, log=-873.1800537109375, loss=-311.8832702636719]\n",
            "test - epoch : 7: 100%|██████████| 40/40 [00:02<00:00, 17.82it/s, loss=-281.51910400390625]\n",
            "  4%|▍         | 8/200 [02:37<1:02:39, 19.58s/it]"
          ]
        },
        {
          "output_type": "stream",
          "name": "stdout",
          "text": [
            "epoch train loss:  -300.7103037732713\n"
          ]
        },
        {
          "output_type": "stream",
          "name": "stderr",
          "text": [
            "train - epoch : 8: 100%|██████████| 235/235 [00:16<00:00, 14.18it/s, det=1197.369873046875, log=-874.689697265625, loss=-322.68011474609375]\n",
            "test - epoch : 8: 100%|██████████| 40/40 [00:02<00:00, 15.19it/s, loss=-304.9338684082031]\n",
            "  4%|▍         | 9/200 [02:56<1:01:58, 19.47s/it]"
          ]
        },
        {
          "output_type": "stream",
          "name": "stdout",
          "text": [
            "epoch train loss:  -314.1864474682098\n"
          ]
        },
        {
          "output_type": "stream",
          "name": "stderr",
          "text": [
            "train - epoch : 9: 100%|██████████| 235/235 [00:17<00:00, 13.53it/s, det=1206.398681640625, log=-854.6923828125, loss=-351.706298828125]\n",
            "test - epoch : 9: 100%|██████████| 40/40 [00:02<00:00, 16.75it/s, loss=-327.0248718261719]\n",
            "  5%|▌         | 10/200 [03:16<1:01:56, 19.56s/it]"
          ]
        },
        {
          "output_type": "stream",
          "name": "stdout",
          "text": [
            "epoch train loss:  -325.60853232525767\n"
          ]
        },
        {
          "output_type": "stream",
          "name": "stderr",
          "text": [
            "train - epoch : 10: 100%|██████████| 235/235 [00:16<00:00, 14.09it/s, det=1213.9892578125, log=-858.6876831054688, loss=-355.3016052246094]\n",
            "test - epoch : 10: 100%|██████████| 40/40 [00:02<00:00, 17.07it/s, loss=-347.4266357421875]\n",
            "  6%|▌         | 11/200 [03:35<1:01:06, 19.40s/it]"
          ]
        },
        {
          "output_type": "stream",
          "name": "stdout",
          "text": [
            "epoch train loss:  -336.6045345225233\n"
          ]
        },
        {
          "output_type": "stream",
          "name": "stderr",
          "text": [
            "train - epoch : 11: 100%|██████████| 235/235 [00:17<00:00, 13.64it/s, det=1214.76318359375, log=-856.478515625, loss=-358.28466796875]\n",
            "test - epoch : 11: 100%|██████████| 40/40 [00:02<00:00, 14.81it/s, loss=-408.807861328125]\n",
            "  6%|▌         | 12/200 [03:55<1:01:18, 19.57s/it]"
          ]
        },
        {
          "output_type": "stream",
          "name": "stdout",
          "text": [
            "epoch train loss:  -344.4618018617021\n"
          ]
        },
        {
          "output_type": "stream",
          "name": "stderr",
          "text": [
            "train - epoch : 12: 100%|██████████| 235/235 [00:16<00:00, 13.89it/s, det=1202.987548828125, log=-867.0619506835938, loss=-335.925537109375]\n",
            "test - epoch : 12: 100%|██████████| 40/40 [00:02<00:00, 17.30it/s, loss=-368.1329345703125]\n",
            "  6%|▋         | 13/200 [04:14<1:00:40, 19.47s/it]"
          ]
        },
        {
          "output_type": "stream",
          "name": "stdout",
          "text": [
            "epoch train loss:  -351.7415535135472\n"
          ]
        },
        {
          "output_type": "stream",
          "name": "stderr",
          "text": [
            "train - epoch : 13: 100%|██████████| 235/235 [00:16<00:00, 13.98it/s, det=1212.692626953125, log=-854.4179077148438, loss=-358.27471923828125]\n",
            "test - epoch : 13: 100%|██████████| 40/40 [00:02<00:00, 13.64it/s, loss=-364.43890380859375]\n",
            "  7%|▋         | 14/200 [04:34<1:00:37, 19.56s/it]"
          ]
        },
        {
          "output_type": "stream",
          "name": "stdout",
          "text": [
            "epoch train loss:  -358.77921064660904\n"
          ]
        },
        {
          "output_type": "stream",
          "name": "stderr",
          "text": [
            "train - epoch : 14: 100%|██████████| 235/235 [00:17<00:00, 13.76it/s, det=1227.482666015625, log=-849.7999877929688, loss=-377.6826171875]\n",
            "test - epoch : 14: 100%|██████████| 40/40 [00:02<00:00, 17.69it/s, loss=-328.60455322265625]\n",
            "  8%|▊         | 15/200 [04:53<1:00:07, 19.50s/it]"
          ]
        },
        {
          "output_type": "stream",
          "name": "stdout",
          "text": [
            "epoch train loss:  -365.23953701587436\n"
          ]
        },
        {
          "output_type": "stream",
          "name": "stderr",
          "text": [
            "train - epoch : 15: 100%|██████████| 235/235 [00:16<00:00, 14.17it/s, det=1224.665283203125, log=-863.4891357421875, loss=-361.1761474609375]\n",
            "test - epoch : 15: 100%|██████████| 40/40 [00:02<00:00, 17.51it/s, loss=-311.2580261230469]\n",
            "  8%|▊         | 16/200 [05:12<59:13, 19.31s/it]  "
          ]
        },
        {
          "output_type": "stream",
          "name": "stdout",
          "text": [
            "epoch train loss:  -371.91721749813\n"
          ]
        },
        {
          "output_type": "stream",
          "name": "stderr",
          "text": [
            "train - epoch : 16: 100%|██████████| 235/235 [00:17<00:00, 13.40it/s, det=1227.129150390625, log=-853.0900268554688, loss=-374.03912353515625]\n",
            "test - epoch : 16: 100%|██████████| 40/40 [00:02<00:00, 15.36it/s, loss=-411.6453857421875]\n",
            "  8%|▊         | 17/200 [05:32<59:40, 19.57s/it]"
          ]
        },
        {
          "output_type": "stream",
          "name": "stdout",
          "text": [
            "epoch train loss:  -376.51203587308845\n"
          ]
        },
        {
          "output_type": "stream",
          "name": "stderr",
          "text": [
            "train - epoch : 17: 100%|██████████| 235/235 [00:16<00:00, 13.94it/s, det=1247.153564453125, log=-845.31787109375, loss=-401.8356628417969]\n",
            "test - epoch : 17: 100%|██████████| 40/40 [00:02<00:00, 15.94it/s, loss=-378.16668701171875]\n",
            "  9%|▉         | 18/200 [05:52<59:11, 19.51s/it]"
          ]
        },
        {
          "output_type": "stream",
          "name": "stdout",
          "text": [
            "epoch train loss:  -381.1989385077294\n"
          ]
        },
        {
          "output_type": "stream",
          "name": "stderr",
          "text": [
            "train - epoch : 18: 100%|██████████| 235/235 [00:16<00:00, 14.16it/s, det=1237.87353515625, log=-845.5660400390625, loss=-392.3074951171875]\n",
            "test - epoch : 18: 100%|██████████| 40/40 [00:02<00:00, 13.52it/s, loss=-337.47637939453125]\n",
            " 10%|▉         | 19/200 [06:11<58:55, 19.53s/it]"
          ]
        },
        {
          "output_type": "stream",
          "name": "stdout",
          "text": [
            "epoch train loss:  -385.4222258872174\n"
          ]
        },
        {
          "output_type": "stream",
          "name": "stderr",
          "text": [
            "train - epoch : 19: 100%|██████████| 235/235 [00:17<00:00, 13.55it/s, det=1233.4031982421875, log=-857.35546875, loss=-376.047607421875]\n",
            "test - epoch : 19: 100%|██████████| 40/40 [00:02<00:00, 16.92it/s, loss=-352.48565673828125]\n",
            " 10%|█         | 20/200 [06:31<58:46, 19.59s/it]"
          ]
        },
        {
          "output_type": "stream",
          "name": "stdout",
          "text": [
            "epoch train loss:  -389.408259614985\n"
          ]
        },
        {
          "output_type": "stream",
          "name": "stderr",
          "text": [
            "train - epoch : 20: 100%|██████████| 235/235 [00:16<00:00, 13.92it/s, det=1249.5853271484375, log=-837.2825927734375, loss=-412.30267333984375]\n",
            "test - epoch : 20: 100%|██████████| 40/40 [00:02<00:00, 17.17it/s, loss=-393.8856201171875]\n",
            " 10%|█         | 21/200 [06:50<58:07, 19.48s/it]"
          ]
        },
        {
          "output_type": "stream",
          "name": "stdout",
          "text": [
            "epoch train loss:  -393.8380112668301\n"
          ]
        },
        {
          "output_type": "stream",
          "name": "stderr",
          "text": [
            "train - epoch : 21: 100%|██████████| 235/235 [00:17<00:00, 13.27it/s, det=1256.057861328125, log=-838.393310546875, loss=-417.66461181640625]\n",
            "test - epoch : 21: 100%|██████████| 40/40 [00:02<00:00, 17.05it/s, loss=-401.185791015625]\n",
            " 11%|█         | 22/200 [07:10<58:19, 19.66s/it]"
          ]
        },
        {
          "output_type": "stream",
          "name": "stdout",
          "text": [
            "epoch train loss:  -396.93010994119845\n"
          ]
        },
        {
          "output_type": "stream",
          "name": "stderr",
          "text": [
            "train - epoch : 22: 100%|██████████| 235/235 [00:16<00:00, 13.93it/s, det=1245.057861328125, log=-852.5396728515625, loss=-392.51824951171875]\n",
            "test - epoch : 22: 100%|██████████| 40/40 [00:02<00:00, 16.96it/s, loss=-420.775634765625]\n",
            " 12%|█▏        | 23/200 [07:30<57:37, 19.53s/it]"
          ]
        },
        {
          "output_type": "stream",
          "name": "stdout",
          "text": [
            "epoch train loss:  -399.7832885742188\n"
          ]
        },
        {
          "output_type": "stream",
          "name": "stderr",
          "text": [
            "train - epoch : 23: 100%|██████████| 235/235 [00:17<00:00, 13.75it/s, det=1233.942626953125, log=-855.1803588867188, loss=-378.7623291015625]\n",
            "test - epoch : 23: 100%|██████████| 40/40 [00:03<00:00, 13.16it/s, loss=-387.4889831542969]\n",
            " 12%|█▏        | 24/200 [07:50<57:50, 19.72s/it]"
          ]
        },
        {
          "output_type": "stream",
          "name": "stdout",
          "text": [
            "epoch train loss:  -402.6740744732796\n"
          ]
        },
        {
          "output_type": "stream",
          "name": "stderr",
          "text": [
            "train - epoch : 24: 100%|██████████| 235/235 [00:16<00:00, 13.91it/s, det=1251.2232666015625, log=-840.19091796875, loss=-411.0323181152344]\n",
            "test - epoch : 24: 100%|██████████| 40/40 [00:02<00:00, 17.42it/s, loss=-474.9030456542969]\n",
            " 12%|█▎        | 25/200 [08:09<57:03, 19.56s/it]"
          ]
        },
        {
          "output_type": "stream",
          "name": "stdout",
          "text": [
            "epoch train loss:  -405.55745927526596\n"
          ]
        },
        {
          "output_type": "stream",
          "name": "stderr",
          "text": [
            "train - epoch : 25: 100%|██████████| 235/235 [00:16<00:00, 13.83it/s, det=1274.0447998046875, log=-853.8180541992188, loss=-420.226806640625]\n",
            "test - epoch : 25: 100%|██████████| 40/40 [00:02<00:00, 14.27it/s, loss=-341.4517517089844]\n",
            " 13%|█▎        | 26/200 [08:29<56:56, 19.64s/it]"
          ]
        },
        {
          "output_type": "stream",
          "name": "stdout",
          "text": [
            "epoch train loss:  -408.6388995231466\n"
          ]
        },
        {
          "output_type": "stream",
          "name": "stderr",
          "text": [
            "train - epoch : 26: 100%|██████████| 235/235 [00:17<00:00, 13.56it/s, det=1244.986572265625, log=-837.4920654296875, loss=-407.4944763183594]\n",
            "test - epoch : 26: 100%|██████████| 40/40 [00:02<00:00, 17.48it/s, loss=-419.685791015625]\n",
            " 14%|█▎        | 27/200 [08:48<56:37, 19.64s/it]"
          ]
        },
        {
          "output_type": "stream",
          "name": "stdout",
          "text": [
            "epoch train loss:  -410.83163530065656\n"
          ]
        },
        {
          "output_type": "stream",
          "name": "stderr",
          "text": [
            "train - epoch : 27: 100%|██████████| 235/235 [00:17<00:00, 13.78it/s, det=1262.715576171875, log=-836.552734375, loss=-426.16278076171875]\n",
            "test - epoch : 27: 100%|██████████| 40/40 [00:02<00:00, 17.41it/s, loss=-453.4211120605469]\n",
            " 14%|█▍        | 28/200 [09:08<56:03, 19.55s/it]"
          ]
        },
        {
          "output_type": "stream",
          "name": "stdout",
          "text": [
            "epoch train loss:  -413.0055874438996\n"
          ]
        },
        {
          "output_type": "stream",
          "name": "stderr",
          "text": [
            "train - epoch : 28: 100%|██████████| 235/235 [00:17<00:00, 13.27it/s, det=1244.738525390625, log=-842.6505126953125, loss=-402.08807373046875]\n",
            "test - epoch : 28: 100%|██████████| 40/40 [00:02<00:00, 14.32it/s, loss=-354.51519775390625]\n",
            " 14%|█▍        | 29/200 [09:28<56:33, 19.84s/it]"
          ]
        },
        {
          "output_type": "stream",
          "name": "stdout",
          "text": [
            "epoch train loss:  -414.8736502140126\n"
          ]
        },
        {
          "output_type": "stream",
          "name": "stderr",
          "text": [
            "train - epoch : 29: 100%|██████████| 235/235 [00:17<00:00, 13.49it/s, det=1253.2230224609375, log=-844.3953857421875, loss=-408.8277282714844]\n",
            "test - epoch : 29: 100%|██████████| 40/40 [00:02<00:00, 17.15it/s, loss=-419.82586669921875]\n",
            " 15%|█▌        | 30/200 [09:48<56:09, 19.82s/it]"
          ]
        },
        {
          "output_type": "stream",
          "name": "stdout",
          "text": [
            "epoch train loss:  -416.93980115525267\n"
          ]
        },
        {
          "output_type": "stream",
          "name": "stderr",
          "text": [
            "train - epoch : 30: 100%|██████████| 235/235 [00:17<00:00, 13.48it/s, det=1256.82470703125, log=-839.4869995117188, loss=-417.3377685546875]\n",
            "test - epoch : 30: 100%|██████████| 40/40 [00:03<00:00, 12.75it/s, loss=-435.82745361328125]\n",
            " 16%|█▌        | 31/200 [10:09<56:28, 20.05s/it]"
          ]
        },
        {
          "output_type": "stream",
          "name": "stdout",
          "text": [
            "epoch train loss:  -419.3302005848986\n"
          ]
        },
        {
          "output_type": "stream",
          "name": "stderr",
          "text": [
            "train - epoch : 31: 100%|██████████| 235/235 [00:17<00:00, 13.66it/s, det=1249.611572265625, log=-843.6021728515625, loss=-406.00933837890625]\n",
            "test - epoch : 31: 100%|██████████| 40/40 [00:02<00:00, 16.87it/s, loss=-422.0647277832031]\n",
            " 16%|█▌        | 32/200 [10:28<55:45, 19.91s/it]"
          ]
        },
        {
          "output_type": "stream",
          "name": "stdout",
          "text": [
            "epoch train loss:  -420.8156107151762\n"
          ]
        },
        {
          "output_type": "stream",
          "name": "stderr",
          "text": [
            "train - epoch : 32: 100%|██████████| 235/235 [00:17<00:00, 13.56it/s, det=1259.2132568359375, log=-853.0419921875, loss=-406.1712646484375]\n",
            "test - epoch : 32: 100%|██████████| 40/40 [00:03<00:00, 13.24it/s, loss=-377.6663818359375]\n",
            " 16%|█▋        | 33/200 [10:49<55:48, 20.05s/it]"
          ]
        },
        {
          "output_type": "stream",
          "name": "stdout",
          "text": [
            "epoch train loss:  -422.4021798641124\n"
          ]
        },
        {
          "output_type": "stream",
          "name": "stderr",
          "text": [
            "train - epoch : 33: 100%|██████████| 235/235 [00:17<00:00, 13.21it/s, det=1262.489013671875, log=-829.4266357421875, loss=-433.0623779296875]\n",
            "test - epoch : 33: 100%|██████████| 40/40 [00:02<00:00, 16.63it/s, loss=-415.9988098144531]\n",
            " 17%|█▋        | 34/200 [11:09<55:36, 20.10s/it]"
          ]
        },
        {
          "output_type": "stream",
          "name": "stdout",
          "text": [
            "epoch train loss:  -424.0548617748504\n"
          ]
        },
        {
          "output_type": "stream",
          "name": "stderr",
          "text": [
            "train - epoch : 34: 100%|██████████| 235/235 [00:17<00:00, 13.75it/s, det=1281.524169921875, log=-823.8348388671875, loss=-457.6893005371094]\n",
            "test - epoch : 34: 100%|██████████| 40/40 [00:02<00:00, 16.75it/s, loss=-448.26019287109375]\n",
            " 18%|█▊        | 35/200 [11:28<54:47, 19.92s/it]"
          ]
        },
        {
          "output_type": "stream",
          "name": "stdout",
          "text": [
            "epoch train loss:  -425.4840887840758\n"
          ]
        },
        {
          "output_type": "stream",
          "name": "stderr",
          "text": [
            "train - epoch : 35: 100%|██████████| 235/235 [00:17<00:00, 13.08it/s, det=1274.4456787109375, log=-832.73779296875, loss=-441.70782470703125]\n",
            "test - epoch : 35: 100%|██████████| 40/40 [00:02<00:00, 17.39it/s, loss=-447.97955322265625]\n",
            " 18%|█▊        | 36/200 [11:49<54:45, 20.03s/it]"
          ]
        },
        {
          "output_type": "stream",
          "name": "stdout",
          "text": [
            "epoch train loss:  -427.26633729325965\n"
          ]
        },
        {
          "output_type": "stream",
          "name": "stderr",
          "text": [
            "train - epoch : 36: 100%|██████████| 235/235 [00:17<00:00, 13.76it/s, det=1247.1170654296875, log=-840.8875732421875, loss=-406.2295837402344]\n",
            "test - epoch : 36: 100%|██████████| 40/40 [00:02<00:00, 17.19it/s, loss=-441.5462646484375]\n",
            " 18%|█▊        | 37/200 [12:08<53:55, 19.85s/it]"
          ]
        },
        {
          "output_type": "stream",
          "name": "stdout",
          "text": [
            "epoch train loss:  -428.3410179625166\n"
          ]
        },
        {
          "output_type": "stream",
          "name": "stderr",
          "text": [
            "train - epoch : 37: 100%|██████████| 235/235 [00:17<00:00, 13.44it/s, det=1253.7816162109375, log=-841.74462890625, loss=-412.0369567871094]\n",
            "test - epoch : 37: 100%|██████████| 40/40 [00:02<00:00, 13.66it/s, loss=-476.923828125]\n",
            " 19%|█▉        | 38/200 [12:29<54:04, 20.03s/it]"
          ]
        },
        {
          "output_type": "stream",
          "name": "stdout",
          "text": [
            "epoch train loss:  -429.5201591329372\n"
          ]
        },
        {
          "output_type": "stream",
          "name": "stderr",
          "text": [
            "train - epoch : 38: 100%|██████████| 235/235 [00:16<00:00, 14.06it/s, det=1277.1942138671875, log=-839.5709228515625, loss=-437.623291015625]\n",
            "test - epoch : 38: 100%|██████████| 40/40 [00:02<00:00, 17.65it/s, loss=-401.2897644042969]\n",
            " 20%|█▉        | 39/200 [12:48<52:54, 19.72s/it]"
          ]
        },
        {
          "output_type": "stream",
          "name": "stdout",
          "text": [
            "epoch train loss:  -430.7792660976978\n"
          ]
        },
        {
          "output_type": "stream",
          "name": "stderr",
          "text": [
            "train - epoch : 39: 100%|██████████| 235/235 [00:16<00:00, 13.84it/s, det=1255.55322265625, log=-827.8104248046875, loss=-427.7427673339844]\n",
            "test - epoch : 39: 100%|██████████| 40/40 [00:02<00:00, 14.95it/s, loss=-395.1524658203125]\n",
            " 20%|██        | 40/200 [13:07<52:33, 19.71s/it]"
          ]
        },
        {
          "output_type": "stream",
          "name": "stdout",
          "text": [
            "epoch train loss:  -431.9118636760306\n"
          ]
        },
        {
          "output_type": "stream",
          "name": "stderr",
          "text": [
            "train - epoch : 40: 100%|██████████| 235/235 [00:17<00:00, 13.60it/s, det=1262.1962890625, log=-847.433837890625, loss=-414.76251220703125]\n",
            "test - epoch : 40: 100%|██████████| 40/40 [00:02<00:00, 17.25it/s, loss=-440.4081726074219]\n",
            " 20%|██        | 41/200 [13:27<52:09, 19.68s/it]"
          ]
        },
        {
          "output_type": "stream",
          "name": "stdout",
          "text": [
            "epoch train loss:  -433.19705317071146\n"
          ]
        },
        {
          "output_type": "stream",
          "name": "stderr",
          "text": [
            "train - epoch : 41: 100%|██████████| 235/235 [00:16<00:00, 13.92it/s, det=1267.9473876953125, log=-833.4552001953125, loss=-434.4922790527344]\n",
            "test - epoch : 41: 100%|██████████| 40/40 [00:02<00:00, 16.95it/s, loss=-432.10272216796875]\n",
            " 21%|██        | 42/200 [13:46<51:29, 19.55s/it]"
          ]
        },
        {
          "output_type": "stream",
          "name": "stdout",
          "text": [
            "epoch train loss:  -434.15161911984706\n"
          ]
        },
        {
          "output_type": "stream",
          "name": "stderr",
          "text": [
            "train - epoch : 42: 100%|██████████| 235/235 [00:17<00:00, 13.47it/s, det=1269.2635498046875, log=-834.3177490234375, loss=-434.9458923339844]\n",
            "test - epoch : 42: 100%|██████████| 40/40 [00:02<00:00, 15.33it/s, loss=-360.0421142578125]\n",
            " 22%|██▏       | 43/200 [14:06<51:33, 19.71s/it]"
          ]
        },
        {
          "output_type": "stream",
          "name": "stdout",
          "text": [
            "epoch train loss:  -435.0948870719747\n"
          ]
        },
        {
          "output_type": "stream",
          "name": "stderr",
          "text": [
            "train - epoch : 43: 100%|██████████| 235/235 [00:16<00:00, 13.96it/s, det=1262.6658935546875, log=-823.1141357421875, loss=-439.5517578125]\n",
            "test - epoch : 43: 100%|██████████| 40/40 [00:02<00:00, 17.00it/s, loss=-416.6552429199219]\n",
            " 22%|██▏       | 44/200 [14:25<50:50, 19.55s/it]"
          ]
        },
        {
          "output_type": "stream",
          "name": "stdout",
          "text": [
            "epoch train loss:  -435.9983338700964\n"
          ]
        },
        {
          "output_type": "stream",
          "name": "stderr",
          "text": [
            "train - epoch : 44: 100%|██████████| 235/235 [00:16<00:00, 13.86it/s, det=1266.56005859375, log=-827.63525390625, loss=-438.9246520996094]\n",
            "test - epoch : 44: 100%|██████████| 40/40 [00:03<00:00, 13.18it/s, loss=-460.318359375]\n",
            " 22%|██▎       | 45/200 [14:45<50:51, 19.69s/it]"
          ]
        },
        {
          "output_type": "stream",
          "name": "stdout",
          "text": [
            "epoch train loss:  -436.85505799638463\n"
          ]
        },
        {
          "output_type": "stream",
          "name": "stderr",
          "text": [
            "train - epoch : 45: 100%|██████████| 235/235 [00:17<00:00, 13.64it/s, det=1277.75830078125, log=-829.3504638671875, loss=-448.4078063964844]\n",
            "test - epoch : 45: 100%|██████████| 40/40 [00:02<00:00, 17.15it/s, loss=-389.635498046875]\n",
            " 23%|██▎       | 46/200 [15:05<50:26, 19.66s/it]"
          ]
        },
        {
          "output_type": "stream",
          "name": "stdout",
          "text": [
            "epoch train loss:  -437.9395342887716\n"
          ]
        },
        {
          "output_type": "stream",
          "name": "stderr",
          "text": [
            "train - epoch : 46: 100%|██████████| 235/235 [00:16<00:00, 13.90it/s, det=1278.8857421875, log=-838.0128784179688, loss=-440.8730163574219]\n",
            "test - epoch : 46: 100%|██████████| 40/40 [00:02<00:00, 17.23it/s, loss=-444.30230712890625]\n",
            " 24%|██▎       | 47/200 [15:24<49:48, 19.53s/it]"
          ]
        },
        {
          "output_type": "stream",
          "name": "stdout",
          "text": [
            "epoch train loss:  -438.64888565388134\n"
          ]
        },
        {
          "output_type": "stream",
          "name": "stderr",
          "text": [
            "train - epoch : 47: 100%|██████████| 235/235 [00:18<00:00, 13.02it/s, det=1289.2841796875, log=-822.6141967773438, loss=-466.67010498046875]\n",
            "test - epoch : 47: 100%|██████████| 40/40 [00:02<00:00, 17.25it/s, loss=-369.16473388671875]\n",
            " 24%|██▍       | 48/200 [15:45<50:07, 19.79s/it]"
          ]
        },
        {
          "output_type": "stream",
          "name": "stdout",
          "text": [
            "epoch train loss:  -439.41920153029423\n"
          ]
        },
        {
          "output_type": "stream",
          "name": "stderr",
          "text": [
            "train - epoch : 48: 100%|██████████| 235/235 [00:16<00:00, 13.92it/s, det=1271.82275390625, log=-826.6163940429688, loss=-445.2064208984375]\n",
            "test - epoch : 48: 100%|██████████| 40/40 [00:02<00:00, 17.10it/s, loss=-362.34954833984375]\n",
            " 24%|██▍       | 49/200 [16:04<49:23, 19.62s/it]"
          ]
        },
        {
          "output_type": "stream",
          "name": "stdout",
          "text": [
            "epoch train loss:  -440.08880238634475\n"
          ]
        },
        {
          "output_type": "stream",
          "name": "stderr",
          "text": [
            "train - epoch : 49: 100%|██████████| 235/235 [00:17<00:00, 13.26it/s, det=1260.189697265625, log=-833.729736328125, loss=-426.4599304199219]\n",
            "test - epoch : 49: 100%|██████████| 40/40 [00:03<00:00, 12.97it/s, loss=-427.2251281738281]\n",
            " 25%|██▌       | 50/200 [16:25<49:57, 19.98s/it]"
          ]
        },
        {
          "output_type": "stream",
          "name": "stdout",
          "text": [
            "epoch train loss:  -440.6995387300532\n"
          ]
        },
        {
          "output_type": "stream",
          "name": "stderr",
          "text": [
            "train - epoch : 50: 100%|██████████| 235/235 [00:17<00:00, 13.68it/s, det=1260.851318359375, log=-844.8978271484375, loss=-415.95355224609375]\n",
            "test - epoch : 50: 100%|██████████| 40/40 [00:02<00:00, 16.85it/s, loss=-300.99822998046875]\n",
            " 26%|██▌       | 51/200 [16:44<49:19, 19.86s/it]"
          ]
        },
        {
          "output_type": "stream",
          "name": "stdout",
          "text": [
            "epoch train loss:  -441.5547807409408\n"
          ]
        },
        {
          "output_type": "stream",
          "name": "stderr",
          "text": [
            "train - epoch : 51: 100%|██████████| 235/235 [00:17<00:00, 13.64it/s, det=1272.36865234375, log=-833.92919921875, loss=-438.43939208984375]\n",
            "test - epoch : 51: 100%|██████████| 40/40 [00:03<00:00, 12.91it/s, loss=-402.56207275390625]\n",
            " 26%|██▌       | 52/200 [17:05<49:20, 20.00s/it]"
          ]
        },
        {
          "output_type": "stream",
          "name": "stdout",
          "text": [
            "epoch train loss:  -442.1707953270446\n"
          ]
        },
        {
          "output_type": "stream",
          "name": "stderr",
          "text": [
            "train - epoch : 52: 100%|██████████| 235/235 [00:17<00:00, 13.48it/s, det=1279.579345703125, log=-826.2135620117188, loss=-453.3658142089844]\n",
            "test - epoch : 52: 100%|██████████| 40/40 [00:02<00:00, 16.55it/s, loss=-372.14239501953125]\n",
            " 26%|██▋       | 53/200 [17:24<48:54, 19.96s/it]"
          ]
        },
        {
          "output_type": "stream",
          "name": "stdout",
          "text": [
            "epoch train loss:  -442.77397785592586\n"
          ]
        },
        {
          "output_type": "stream",
          "name": "stderr",
          "text": [
            "train - epoch : 53: 100%|██████████| 235/235 [00:17<00:00, 13.43it/s, det=1275.91796875, log=-826.6466064453125, loss=-449.271240234375]\n",
            "test - epoch : 53: 100%|██████████| 40/40 [00:02<00:00, 15.88it/s, loss=-461.18634033203125]\n",
            " 27%|██▋       | 54/200 [17:44<48:37, 19.98s/it]"
          ]
        },
        {
          "output_type": "stream",
          "name": "stdout",
          "text": [
            "epoch train loss:  -443.2988699405751\n"
          ]
        },
        {
          "output_type": "stream",
          "name": "stderr",
          "text": [
            "train - epoch : 54: 100%|██████████| 235/235 [00:17<00:00, 13.09it/s, det=1272.4156494140625, log=-838.1359252929688, loss=-434.27972412109375]\n",
            "test - epoch : 54: 100%|██████████| 40/40 [00:02<00:00, 17.10it/s, loss=-405.1568603515625]\n",
            " 28%|██▊       | 55/200 [18:05<48:31, 20.08s/it]"
          ]
        },
        {
          "output_type": "stream",
          "name": "stdout",
          "text": [
            "epoch train loss:  -443.82420991938164\n"
          ]
        },
        {
          "output_type": "stream",
          "name": "stderr",
          "text": [
            "train - epoch : 55: 100%|██████████| 235/235 [00:16<00:00, 14.01it/s, det=1248.2122802734375, log=-839.9935913085938, loss=-408.21868896484375]\n",
            "test - epoch : 55: 100%|██████████| 40/40 [00:02<00:00, 16.86it/s, loss=-469.08544921875]\n",
            " 28%|██▊       | 56/200 [18:24<47:32, 19.81s/it]"
          ]
        },
        {
          "output_type": "stream",
          "name": "stdout",
          "text": [
            "epoch train loss:  -444.4228787036652\n"
          ]
        },
        {
          "output_type": "stream",
          "name": "stderr",
          "text": [
            "train - epoch : 56: 100%|██████████| 235/235 [00:17<00:00, 13.14it/s, det=1279.18408203125, log=-826.338134765625, loss=-452.8459167480469]\n",
            "test - epoch : 56: 100%|██████████| 40/40 [00:02<00:00, 13.80it/s, loss=-447.6318054199219]\n",
            " 28%|██▊       | 57/200 [18:45<47:55, 20.11s/it]"
          ]
        },
        {
          "output_type": "stream",
          "name": "stdout",
          "text": [
            "epoch train loss:  -445.00668841422873\n"
          ]
        },
        {
          "output_type": "stream",
          "name": "stderr",
          "text": [
            "train - epoch : 57: 100%|██████████| 235/235 [00:17<00:00, 13.70it/s, det=1283.6680908203125, log=-837.4720458984375, loss=-446.196044921875]\n",
            "test - epoch : 57: 100%|██████████| 40/40 [00:02<00:00, 17.20it/s, loss=-408.63134765625]\n",
            " 29%|██▉       | 58/200 [19:04<47:09, 19.92s/it]"
          ]
        },
        {
          "output_type": "stream",
          "name": "stdout",
          "text": [
            "epoch train loss:  -445.41727113115024\n"
          ]
        },
        {
          "output_type": "stream",
          "name": "stderr",
          "text": [
            "train - epoch : 58: 100%|██████████| 235/235 [00:16<00:00, 13.91it/s, det=1282.1575927734375, log=-822.68896484375, loss=-459.4685974121094]\n",
            "test - epoch : 58: 100%|██████████| 40/40 [00:03<00:00, 13.32it/s, loss=-400.53936767578125]\n",
            " 30%|██▉       | 59/200 [19:24<46:48, 19.92s/it]"
          ]
        },
        {
          "output_type": "stream",
          "name": "stdout",
          "text": [
            "epoch train loss:  -445.886658623878\n"
          ]
        },
        {
          "output_type": "stream",
          "name": "stderr",
          "text": [
            "train - epoch : 59: 100%|██████████| 235/235 [00:17<00:00, 13.47it/s, det=1281.46875, log=-828.944580078125, loss=-452.5242614746094]\n",
            "test - epoch : 59: 100%|██████████| 40/40 [00:02<00:00, 17.59it/s, loss=-429.86676025390625]\n",
            " 30%|███       | 60/200 [19:44<46:20, 19.86s/it]"
          ]
        },
        {
          "output_type": "stream",
          "name": "stdout",
          "text": [
            "epoch train loss:  -446.33740403195645\n"
          ]
        },
        {
          "output_type": "stream",
          "name": "stderr",
          "text": [
            "train - epoch : 60: 100%|██████████| 235/235 [00:16<00:00, 13.94it/s, det=1273.07958984375, log=-842.1435546875, loss=-430.93603515625]\n",
            "test - epoch : 60: 100%|██████████| 40/40 [00:02<00:00, 17.00it/s, loss=-461.788818359375]\n",
            " 30%|███       | 61/200 [20:03<45:34, 19.67s/it]"
          ]
        },
        {
          "output_type": "stream",
          "name": "stdout",
          "text": [
            "epoch train loss:  -446.81389952314663\n"
          ]
        },
        {
          "output_type": "stream",
          "name": "stderr",
          "text": [
            "train - epoch : 61: 100%|██████████| 235/235 [00:18<00:00, 12.95it/s, det=1283.026123046875, log=-823.4755859375, loss=-459.55047607421875]\n",
            "test - epoch : 61: 100%|██████████| 40/40 [00:02<00:00, 17.32it/s, loss=-419.5218200683594]\n",
            " 31%|███       | 62/200 [20:24<45:48, 19.92s/it]"
          ]
        },
        {
          "output_type": "stream",
          "name": "stdout",
          "text": [
            "epoch train loss:  -447.2423996945645\n"
          ]
        },
        {
          "output_type": "stream",
          "name": "stderr",
          "text": [
            "train - epoch : 62: 100%|██████████| 235/235 [00:17<00:00, 13.77it/s, det=1271.234130859375, log=-826.2818603515625, loss=-444.9522399902344]\n",
            "test - epoch : 62: 100%|██████████| 40/40 [00:02<00:00, 17.80it/s, loss=-417.58148193359375]\n",
            " 32%|███▏      | 63/200 [20:43<45:04, 19.74s/it]"
          ]
        },
        {
          "output_type": "stream",
          "name": "stdout",
          "text": [
            "epoch train loss:  -447.54048539831285\n"
          ]
        },
        {
          "output_type": "stream",
          "name": "stderr",
          "text": [
            "train - epoch : 63: 100%|██████████| 235/235 [00:17<00:00, 13.69it/s, det=1285.90625, log=-825.3556518554688, loss=-460.5506591796875]\n",
            "test - epoch : 63: 100%|██████████| 40/40 [00:03<00:00, 13.00it/s, loss=-422.81988525390625]\n",
            " 32%|███▏      | 64/200 [21:03<45:06, 19.90s/it]"
          ]
        },
        {
          "output_type": "stream",
          "name": "stdout",
          "text": [
            "epoch train loss:  -447.9570616377161\n"
          ]
        },
        {
          "output_type": "stream",
          "name": "stderr",
          "text": [
            "train - epoch : 64: 100%|██████████| 235/235 [00:16<00:00, 13.87it/s, det=1268.7249755859375, log=-830.4588623046875, loss=-438.26611328125]\n",
            "test - epoch : 64: 100%|██████████| 40/40 [00:02<00:00, 17.31it/s, loss=-426.20635986328125]\n",
            " 32%|███▎      | 65/200 [21:22<44:20, 19.71s/it]"
          ]
        },
        {
          "output_type": "stream",
          "name": "stdout",
          "text": [
            "epoch train loss:  -448.249966235871\n"
          ]
        },
        {
          "output_type": "stream",
          "name": "stderr",
          "text": [
            "train - epoch : 65: 100%|██████████| 235/235 [00:17<00:00, 13.71it/s, det=1285.0601806640625, log=-826.97998046875, loss=-458.0801696777344]\n",
            "test - epoch : 65: 100%|██████████| 40/40 [00:02<00:00, 14.13it/s, loss=-435.83349609375]\n",
            " 33%|███▎      | 66/200 [21:42<44:12, 19.80s/it]"
          ]
        },
        {
          "output_type": "stream",
          "name": "stdout",
          "text": [
            "epoch train loss:  -448.7376986889129\n"
          ]
        },
        {
          "output_type": "stream",
          "name": "stderr",
          "text": [
            "train - epoch : 66: 100%|██████████| 235/235 [00:17<00:00, 13.40it/s, det=1281.4130859375, log=-828.3698120117188, loss=-453.0433044433594]\n",
            "test - epoch : 66: 100%|██████████| 40/40 [00:02<00:00, 16.99it/s, loss=-430.088134765625]\n",
            " 34%|███▎      | 67/200 [22:02<43:57, 19.83s/it]"
          ]
        },
        {
          "output_type": "stream",
          "name": "stdout",
          "text": [
            "epoch train loss:  -449.01521957072805\n"
          ]
        },
        {
          "output_type": "stream",
          "name": "stderr",
          "text": [
            "train - epoch : 67: 100%|██████████| 235/235 [00:17<00:00, 13.69it/s, det=1294.3656005859375, log=-820.8597412109375, loss=-473.5058288574219]\n",
            "test - epoch : 67: 100%|██████████| 40/40 [00:02<00:00, 17.26it/s, loss=-465.334228515625]\n",
            " 34%|███▍      | 68/200 [22:22<43:24, 19.73s/it]"
          ]
        },
        {
          "output_type": "stream",
          "name": "stdout",
          "text": [
            "epoch train loss:  -449.3277180123836\n"
          ]
        },
        {
          "output_type": "stream",
          "name": "stderr",
          "text": [
            "train - epoch : 68: 100%|██████████| 235/235 [00:18<00:00, 12.96it/s, det=1273.188232421875, log=-832.234375, loss=-440.953857421875]\n",
            "test - epoch : 68: 100%|██████████| 40/40 [00:02<00:00, 16.63it/s, loss=-465.11846923828125]\n",
            " 34%|███▍      | 69/200 [22:42<43:37, 19.98s/it]"
          ]
        },
        {
          "output_type": "stream",
          "name": "stdout",
          "text": [
            "epoch train loss:  -449.5472944543717\n"
          ]
        },
        {
          "output_type": "stream",
          "name": "stderr",
          "text": [
            "train - epoch : 69: 100%|██████████| 235/235 [00:16<00:00, 14.03it/s, det=1281.718505859375, log=-827.0939331054688, loss=-454.62457275390625]\n",
            "test - epoch : 69: 100%|██████████| 40/40 [00:02<00:00, 17.30it/s, loss=-506.098876953125]\n",
            " 35%|███▌      | 70/200 [23:01<42:42, 19.71s/it]"
          ]
        },
        {
          "output_type": "stream",
          "name": "stdout",
          "text": [
            "epoch train loss:  -449.8588785374418\n"
          ]
        },
        {
          "output_type": "stream",
          "name": "stderr",
          "text": [
            "train - epoch : 70: 100%|██████████| 235/235 [00:17<00:00, 13.69it/s, det=1278.25, log=-833.5611572265625, loss=-444.68890380859375]\n",
            "test - epoch : 70: 100%|██████████| 40/40 [00:03<00:00, 12.73it/s, loss=-424.35687255859375]\n",
            " 36%|███▌      | 71/200 [23:22<42:46, 19.90s/it]"
          ]
        },
        {
          "output_type": "stream",
          "name": "stdout",
          "text": [
            "epoch train loss:  -450.18787023666056\n"
          ]
        },
        {
          "output_type": "stream",
          "name": "stderr",
          "text": [
            "train - epoch : 71: 100%|██████████| 235/235 [00:17<00:00, 13.64it/s, det=1287.3907470703125, log=-822.0994873046875, loss=-465.29132080078125]\n",
            "test - epoch : 71: 100%|██████████| 40/40 [00:02<00:00, 17.11it/s, loss=-514.7167358398438]\n",
            " 36%|███▌      | 72/200 [23:41<42:15, 19.81s/it]"
          ]
        },
        {
          "output_type": "stream",
          "name": "stdout",
          "text": [
            "epoch train loss:  -450.47781761656415\n"
          ]
        },
        {
          "output_type": "stream",
          "name": "stderr",
          "text": [
            "train - epoch : 72: 100%|██████████| 235/235 [00:16<00:00, 13.89it/s, det=1275.904296875, log=-835.2196044921875, loss=-440.684814453125]\n",
            "test - epoch : 72: 100%|██████████| 40/40 [00:02<00:00, 14.27it/s, loss=-461.88909912109375]\n",
            " 36%|███▋      | 73/200 [24:01<41:52, 19.78s/it]"
          ]
        },
        {
          "output_type": "stream",
          "name": "stdout",
          "text": [
            "epoch train loss:  -450.63122000187\n"
          ]
        },
        {
          "output_type": "stream",
          "name": "stderr",
          "text": [
            "train - epoch : 73: 100%|██████████| 235/235 [00:17<00:00, 13.38it/s, det=1281.2431640625, log=-828.5866088867188, loss=-452.6566162109375]\n",
            "test - epoch : 73: 100%|██████████| 40/40 [00:02<00:00, 17.30it/s, loss=-423.61077880859375]\n",
            " 37%|███▋      | 74/200 [24:21<41:36, 19.82s/it]"
          ]
        },
        {
          "output_type": "stream",
          "name": "stdout",
          "text": [
            "epoch train loss:  -450.9005269801363\n"
          ]
        },
        {
          "output_type": "stream",
          "name": "stderr",
          "text": [
            "train - epoch : 74: 100%|██████████| 235/235 [00:17<00:00, 13.63it/s, det=1287.322265625, log=-823.9163818359375, loss=-463.4058532714844]\n",
            "test - epoch : 74: 100%|██████████| 40/40 [00:02<00:00, 16.93it/s, loss=-498.59149169921875]\n",
            " 38%|███▊      | 75/200 [24:41<41:09, 19.76s/it]"
          ]
        },
        {
          "output_type": "stream",
          "name": "stdout",
          "text": [
            "epoch train loss:  -451.14321237117684\n"
          ]
        },
        {
          "output_type": "stream",
          "name": "stderr",
          "text": [
            "train - epoch : 75: 100%|██████████| 235/235 [00:17<00:00, 13.20it/s, det=1286.549072265625, log=-829.4163818359375, loss=-457.1328125]\n",
            "test - epoch : 75: 100%|██████████| 40/40 [00:02<00:00, 16.86it/s, loss=-395.46295166015625]\n",
            " 38%|███▊      | 76/200 [25:01<41:06, 19.89s/it]"
          ]
        },
        {
          "output_type": "stream",
          "name": "stdout",
          "text": [
            "epoch train loss:  -451.4091957903923\n"
          ]
        },
        {
          "output_type": "stream",
          "name": "stderr",
          "text": [
            "train - epoch : 76: 100%|██████████| 235/235 [00:16<00:00, 13.91it/s, det=1277.913330078125, log=-824.2557373046875, loss=-453.6575622558594]\n",
            "test - epoch : 76: 100%|██████████| 40/40 [00:02<00:00, 17.25it/s, loss=-505.0421142578125]\n",
            " 38%|███▊      | 77/200 [25:20<40:21, 19.69s/it]"
          ]
        },
        {
          "output_type": "stream",
          "name": "stdout",
          "text": [
            "epoch train loss:  -451.59150442569813\n"
          ]
        },
        {
          "output_type": "stream",
          "name": "stderr",
          "text": [
            "train - epoch : 77: 100%|██████████| 235/235 [00:17<00:00, 13.63it/s, det=1273.6175537109375, log=-827.8118896484375, loss=-445.8057556152344]\n",
            "test - epoch : 77: 100%|██████████| 40/40 [00:03<00:00, 12.47it/s, loss=-465.3195495605469]\n",
            " 39%|███▉      | 78/200 [25:41<40:30, 19.92s/it]"
          ]
        },
        {
          "output_type": "stream",
          "name": "stdout",
          "text": [
            "epoch train loss:  -451.74898993309506\n"
          ]
        },
        {
          "output_type": "stream",
          "name": "stderr",
          "text": [
            "train - epoch : 78: 100%|██████████| 235/235 [00:17<00:00, 13.74it/s, det=1281.9322509765625, log=-834.6198120117188, loss=-447.3123779296875]\n",
            "test - epoch : 78: 100%|██████████| 40/40 [00:02<00:00, 16.91it/s, loss=-464.08050537109375]\n",
            " 40%|███▉      | 79/200 [26:00<39:54, 19.79s/it]"
          ]
        },
        {
          "output_type": "stream",
          "name": "stdout",
          "text": [
            "epoch train loss:  -451.944752924493\n"
          ]
        },
        {
          "output_type": "stream",
          "name": "stderr",
          "text": [
            "train - epoch : 79: 100%|██████████| 235/235 [00:16<00:00, 14.00it/s, det=1272.42041015625, log=-825.1911010742188, loss=-447.22943115234375]\n",
            "test - epoch : 79: 100%|██████████| 40/40 [00:02<00:00, 15.32it/s, loss=-436.97821044921875]\n",
            " 40%|████      | 80/200 [26:19<39:21, 19.68s/it]"
          ]
        },
        {
          "output_type": "stream",
          "name": "stdout",
          "text": [
            "epoch train loss:  -452.1338845110954\n"
          ]
        },
        {
          "output_type": "stream",
          "name": "stderr",
          "text": [
            "train - epoch : 80: 100%|██████████| 235/235 [00:17<00:00, 13.36it/s, det=1282.286376953125, log=-824.1611328125, loss=-458.12518310546875]\n",
            "test - epoch : 80: 100%|██████████| 40/40 [00:02<00:00, 16.44it/s, loss=-396.31005859375]\n",
            " 40%|████      | 81/200 [26:39<39:14, 19.79s/it]"
          ]
        },
        {
          "output_type": "stream",
          "name": "stdout",
          "text": [
            "epoch train loss:  -452.37994813310337\n"
          ]
        },
        {
          "output_type": "stream",
          "name": "stderr",
          "text": [
            "train - epoch : 81: 100%|██████████| 235/235 [00:16<00:00, 13.88it/s, det=1276.3197021484375, log=-823.65283203125, loss=-452.6669616699219]\n",
            "test - epoch : 81: 100%|██████████| 40/40 [00:02<00:00, 16.83it/s, loss=-442.656005859375]\n",
            " 41%|████      | 82/200 [26:59<38:38, 19.65s/it]"
          ]
        },
        {
          "output_type": "stream",
          "name": "stdout",
          "text": [
            "epoch train loss:  -452.51975279463096\n"
          ]
        },
        {
          "output_type": "stream",
          "name": "stderr",
          "text": [
            "train - epoch : 82: 100%|██████████| 235/235 [00:18<00:00, 13.05it/s, det=1295.90087890625, log=-818.73486328125, loss=-477.166015625]\n",
            "test - epoch : 82: 100%|██████████| 40/40 [00:02<00:00, 15.01it/s, loss=-450.80804443359375]\n",
            " 42%|████▏     | 83/200 [27:19<38:55, 19.96s/it]"
          ]
        },
        {
          "output_type": "stream",
          "name": "stdout",
          "text": [
            "epoch train loss:  -452.7336376433677\n"
          ]
        },
        {
          "output_type": "stream",
          "name": "stderr",
          "text": [
            "train - epoch : 83: 100%|██████████| 235/235 [00:16<00:00, 13.85it/s, det=1278.725830078125, log=-827.6358642578125, loss=-451.08984375]\n",
            "test - epoch : 83: 100%|██████████| 40/40 [00:02<00:00, 16.79it/s, loss=-397.89581298828125]\n",
            " 42%|████▏     | 84/200 [27:39<38:15, 19.78s/it]"
          ]
        },
        {
          "output_type": "stream",
          "name": "stdout",
          "text": [
            "epoch train loss:  -452.8066121852144\n"
          ]
        },
        {
          "output_type": "stream",
          "name": "stderr",
          "text": [
            "train - epoch : 84: 100%|██████████| 235/235 [00:17<00:00, 13.46it/s, det=1265.9183349609375, log=-830.7110595703125, loss=-435.207275390625]\n",
            "test - epoch : 84: 100%|██████████| 40/40 [00:03<00:00, 13.04it/s, loss=-414.52386474609375]\n",
            " 42%|████▎     | 85/200 [27:59<38:21, 20.01s/it]"
          ]
        },
        {
          "output_type": "stream",
          "name": "stdout",
          "text": [
            "epoch train loss:  -452.91905816260805\n"
          ]
        },
        {
          "output_type": "stream",
          "name": "stderr",
          "text": [
            "train - epoch : 85: 100%|██████████| 235/235 [00:17<00:00, 13.60it/s, det=1276.078369140625, log=-837.9613037109375, loss=-438.11712646484375]\n",
            "test - epoch : 85: 100%|██████████| 40/40 [00:02<00:00, 16.50it/s, loss=-464.3953857421875]\n",
            " 43%|████▎     | 86/200 [28:19<37:51, 19.92s/it]"
          ]
        },
        {
          "output_type": "stream",
          "name": "stdout",
          "text": [
            "epoch train loss:  -453.11183380776265\n"
          ]
        },
        {
          "output_type": "stream",
          "name": "stderr",
          "text": [
            "train - epoch : 86: 100%|██████████| 235/235 [00:16<00:00, 13.86it/s, det=1285.725830078125, log=-841.1851806640625, loss=-444.54071044921875]\n",
            "test - epoch : 86: 100%|██████████| 40/40 [00:02<00:00, 15.41it/s, loss=-455.7355651855469]\n",
            " 44%|████▎     | 87/200 [28:39<37:19, 19.82s/it]"
          ]
        },
        {
          "output_type": "stream",
          "name": "stdout",
          "text": [
            "epoch train loss:  -453.25215051529256\n"
          ]
        },
        {
          "output_type": "stream",
          "name": "stderr",
          "text": [
            "train - epoch : 87: 100%|██████████| 235/235 [00:18<00:00, 13.01it/s, det=1271.9334716796875, log=-830.165283203125, loss=-441.76812744140625]\n",
            "test - epoch : 87: 100%|██████████| 40/40 [00:02<00:00, 16.40it/s, loss=-466.4405822753906]\n",
            " 44%|████▍     | 88/200 [28:59<37:22, 20.03s/it]"
          ]
        },
        {
          "output_type": "stream",
          "name": "stdout",
          "text": [
            "epoch train loss:  -453.36191263401764\n"
          ]
        },
        {
          "output_type": "stream",
          "name": "stderr",
          "text": [
            "train - epoch : 88: 100%|██████████| 235/235 [00:17<00:00, 13.80it/s, det=1303.313232421875, log=-818.4274291992188, loss=-484.8858642578125]\n",
            "test - epoch : 88: 100%|██████████| 40/40 [00:02<00:00, 17.10it/s, loss=-433.9058837890625]\n",
            " 44%|████▍     | 89/200 [29:19<36:41, 19.84s/it]"
          ]
        },
        {
          "output_type": "stream",
          "name": "stdout",
          "text": [
            "epoch train loss:  -453.5843381191822\n"
          ]
        },
        {
          "output_type": "stream",
          "name": "stderr",
          "text": [
            "train - epoch : 89: 100%|██████████| 235/235 [00:17<00:00, 13.30it/s, det=1281.394775390625, log=-823.64208984375, loss=-457.75262451171875]\n",
            "test - epoch : 89: 100%|██████████| 40/40 [00:02<00:00, 13.62it/s, loss=-369.92877197265625]\n",
            " 45%|████▌     | 90/200 [29:39<36:47, 20.07s/it]"
          ]
        },
        {
          "output_type": "stream",
          "name": "stdout",
          "text": [
            "epoch train loss:  -453.6391583381815\n"
          ]
        },
        {
          "output_type": "stream",
          "name": "stderr",
          "text": [
            "train - epoch : 90: 100%|██████████| 235/235 [00:17<00:00, 13.58it/s, det=1284.7275390625, log=-814.8250732421875, loss=-469.9024353027344]\n",
            "test - epoch : 90: 100%|██████████| 40/40 [00:02<00:00, 16.10it/s, loss=-492.543701171875]\n",
            " 46%|████▌     | 91/200 [29:59<36:19, 19.99s/it]"
          ]
        },
        {
          "output_type": "stream",
          "name": "stdout",
          "text": [
            "epoch train loss:  -453.8185237803358\n"
          ]
        },
        {
          "output_type": "stream",
          "name": "stderr",
          "text": [
            "train - epoch : 91: 100%|██████████| 235/235 [00:17<00:00, 13.14it/s, det=1269.690673828125, log=-839.6485595703125, loss=-430.04217529296875]\n",
            "test - epoch : 91: 100%|██████████| 40/40 [00:03<00:00, 12.92it/s, loss=-470.9901123046875]\n",
            " 46%|████▌     | 92/200 [30:20<36:32, 20.30s/it]"
          ]
        },
        {
          "output_type": "stream",
          "name": "stdout",
          "text": [
            "epoch train loss:  -453.8213686679272\n"
          ]
        },
        {
          "output_type": "stream",
          "name": "stderr",
          "text": [
            "train - epoch : 92: 100%|██████████| 235/235 [00:17<00:00, 13.11it/s, det=1269.4296875, log=-835.3992919921875, loss=-434.0303649902344]\n",
            "test - epoch : 92: 100%|██████████| 40/40 [00:02<00:00, 16.93it/s, loss=-371.938720703125]\n",
            " 46%|████▋     | 93/200 [30:40<36:12, 20.30s/it]"
          ]
        },
        {
          "output_type": "stream",
          "name": "stdout",
          "text": [
            "epoch train loss:  -453.91892141788566\n"
          ]
        },
        {
          "output_type": "stream",
          "name": "stderr",
          "text": [
            "train - epoch : 93: 100%|██████████| 235/235 [00:17<00:00, 13.23it/s, det=1280.24365234375, log=-830.8045654296875, loss=-449.43914794921875]\n",
            "test - epoch : 93: 100%|██████████| 40/40 [00:03<00:00, 13.33it/s, loss=-460.50506591796875]\n",
            " 47%|████▋     | 94/200 [31:01<36:06, 20.44s/it]"
          ]
        },
        {
          "output_type": "stream",
          "name": "stdout",
          "text": [
            "epoch train loss:  -454.0528385243517\n"
          ]
        },
        {
          "output_type": "stream",
          "name": "stderr",
          "text": [
            "train - epoch : 94: 100%|██████████| 235/235 [00:17<00:00, 13.30it/s, det=1276.9373779296875, log=-829.0823974609375, loss=-447.85491943359375]\n",
            "test - epoch : 94: 100%|██████████| 40/40 [00:02<00:00, 16.74it/s, loss=-419.46099853515625]\n",
            " 48%|████▊     | 95/200 [31:21<35:35, 20.33s/it]"
          ]
        },
        {
          "output_type": "stream",
          "name": "stdout",
          "text": [
            "epoch train loss:  -454.1453796386719\n"
          ]
        },
        {
          "output_type": "stream",
          "name": "stderr",
          "text": [
            "train - epoch : 95: 100%|██████████| 235/235 [00:17<00:00, 13.68it/s, det=1275.0902099609375, log=-844.2682495117188, loss=-430.82196044921875]\n",
            "test - epoch : 95: 100%|██████████| 40/40 [00:02<00:00, 16.72it/s, loss=-496.20111083984375]\n",
            " 48%|████▊     | 96/200 [31:41<34:51, 20.11s/it]"
          ]
        },
        {
          "output_type": "stream",
          "name": "stdout",
          "text": [
            "epoch train loss:  -454.22689053149935\n"
          ]
        },
        {
          "output_type": "stream",
          "name": "stderr",
          "text": [
            "train - epoch : 96: 100%|██████████| 235/235 [00:17<00:00, 13.16it/s, det=1275.811279296875, log=-833.716796875, loss=-442.0943603515625]\n",
            "test - epoch : 96: 100%|██████████| 40/40 [00:02<00:00, 16.83it/s, loss=-437.11370849609375]\n",
            " 48%|████▊     | 97/200 [32:01<34:35, 20.15s/it]"
          ]
        },
        {
          "output_type": "stream",
          "name": "stdout",
          "text": [
            "epoch train loss:  -454.3342412421044\n"
          ]
        },
        {
          "output_type": "stream",
          "name": "stderr",
          "text": [
            "train - epoch : 97: 100%|██████████| 235/235 [00:17<00:00, 13.78it/s, det=1294.859619140625, log=-823.9708251953125, loss=-470.88885498046875]\n",
            "test - epoch : 97: 100%|██████████| 40/40 [00:02<00:00, 16.78it/s, loss=-533.145751953125]\n",
            " 49%|████▉     | 98/200 [32:20<33:54, 19.94s/it]"
          ]
        },
        {
          "output_type": "stream",
          "name": "stdout",
          "text": [
            "epoch train loss:  -454.49060980614195\n"
          ]
        },
        {
          "output_type": "stream",
          "name": "stderr",
          "text": [
            "train - epoch : 98: 100%|██████████| 235/235 [00:17<00:00, 13.16it/s, det=1280.507568359375, log=-833.6339721679688, loss=-446.87353515625]\n",
            "test - epoch : 98: 100%|██████████| 40/40 [00:02<00:00, 13.83it/s, loss=-465.06170654296875]\n",
            " 50%|████▉     | 99/200 [32:41<33:59, 20.19s/it]"
          ]
        },
        {
          "output_type": "stream",
          "name": "stdout",
          "text": [
            "epoch train loss:  -454.50171820457945\n"
          ]
        },
        {
          "output_type": "stream",
          "name": "stderr",
          "text": [
            "train - epoch : 99: 100%|██████████| 235/235 [00:17<00:00, 13.65it/s, det=1273.6875, log=-838.3465576171875, loss=-435.341064453125]\n",
            "test - epoch : 99: 100%|██████████| 40/40 [00:02<00:00, 16.67it/s, loss=-500.0583190917969]\n",
            " 50%|█████     | 100/200 [33:01<33:22, 20.02s/it]"
          ]
        },
        {
          "output_type": "stream",
          "name": "stdout",
          "text": [
            "epoch train loss:  -454.54272214199636\n"
          ]
        },
        {
          "output_type": "stream",
          "name": "stderr",
          "text": [
            "train - epoch : 100: 100%|██████████| 235/235 [00:17<00:00, 13.71it/s, det=1276.1195068359375, log=-828.26611328125, loss=-447.8533630371094]\n",
            "test - epoch : 100: 100%|██████████| 40/40 [00:03<00:00, 13.02it/s, loss=-463.338623046875]\n",
            " 50%|█████     | 101/200 [33:21<33:08, 20.09s/it]"
          ]
        },
        {
          "output_type": "stream",
          "name": "stdout",
          "text": [
            "epoch train loss:  -454.6820395611702\n"
          ]
        },
        {
          "output_type": "stream",
          "name": "stderr",
          "text": [
            "train - epoch : 101: 100%|██████████| 235/235 [00:17<00:00, 13.46it/s, det=1294.5452880859375, log=-823.85205078125, loss=-470.6932067871094]\n",
            "test - epoch : 101: 100%|██████████| 40/40 [00:02<00:00, 15.98it/s, loss=-459.39874267578125]\n",
            " 51%|█████     | 102/200 [33:41<32:45, 20.05s/it]"
          ]
        },
        {
          "output_type": "stream",
          "name": "stdout",
          "text": [
            "epoch train loss:  -454.8071946164395\n"
          ]
        },
        {
          "output_type": "stream",
          "name": "stderr",
          "text": [
            "train - epoch : 102: 100%|██████████| 235/235 [00:17<00:00, 13.57it/s, det=1271.5662841796875, log=-823.107177734375, loss=-448.4590759277344]\n",
            "test - epoch : 102: 100%|██████████| 40/40 [00:02<00:00, 14.23it/s, loss=-379.9299621582031]\n",
            " 52%|█████▏    | 103/200 [34:01<32:27, 20.08s/it]"
          ]
        },
        {
          "output_type": "stream",
          "name": "stdout",
          "text": [
            "epoch train loss:  -454.8108964635971\n"
          ]
        },
        {
          "output_type": "stream",
          "name": "stderr",
          "text": [
            "train - epoch : 103: 100%|██████████| 235/235 [00:18<00:00, 13.01it/s, det=1272.29345703125, log=-832.517578125, loss=-439.7758483886719]\n",
            "test - epoch : 103: 100%|██████████| 40/40 [00:02<00:00, 17.08it/s, loss=-481.195068359375]\n",
            " 52%|█████▏    | 104/200 [34:22<32:17, 20.18s/it]"
          ]
        },
        {
          "output_type": "stream",
          "name": "stdout",
          "text": [
            "epoch train loss:  -454.8466583901263\n"
          ]
        },
        {
          "output_type": "stream",
          "name": "stderr",
          "text": [
            "train - epoch : 104: 100%|██████████| 235/235 [00:17<00:00, 13.46it/s, det=1273.95654296875, log=-828.453125, loss=-445.5033874511719]\n",
            "test - epoch : 104: 100%|██████████| 40/40 [00:02<00:00, 16.98it/s, loss=-431.3506774902344]\n",
            " 52%|█████▎    | 105/200 [34:41<31:47, 20.08s/it]"
          ]
        },
        {
          "output_type": "stream",
          "name": "stdout",
          "text": [
            "epoch train loss:  -454.92038963804856\n"
          ]
        },
        {
          "output_type": "stream",
          "name": "stderr",
          "text": [
            "train - epoch : 105: 100%|██████████| 235/235 [00:18<00:00, 12.89it/s, det=1288.525634765625, log=-827.5640869140625, loss=-460.9615173339844]\n",
            "test - epoch : 105: 100%|██████████| 40/40 [00:02<00:00, 15.89it/s, loss=-291.919921875]\n",
            " 53%|█████▎    | 106/200 [35:02<31:46, 20.29s/it]"
          ]
        },
        {
          "output_type": "stream",
          "name": "stdout",
          "text": [
            "epoch train loss:  -455.0445372236536\n"
          ]
        },
        {
          "output_type": "stream",
          "name": "stderr",
          "text": [
            "train - epoch : 106: 100%|██████████| 235/235 [00:17<00:00, 13.54it/s, det=1275.395751953125, log=-837.466796875, loss=-437.928955078125]\n",
            "test - epoch : 106: 100%|██████████| 40/40 [00:02<00:00, 16.61it/s, loss=-519.7542724609375]\n",
            " 54%|█████▎    | 107/200 [35:22<31:12, 20.14s/it]"
          ]
        },
        {
          "output_type": "stream",
          "name": "stdout",
          "text": [
            "epoch train loss:  -455.03313455784576\n"
          ]
        },
        {
          "output_type": "stream",
          "name": "stderr",
          "text": [
            "train - epoch : 107: 100%|██████████| 235/235 [00:17<00:00, 13.34it/s, det=1281.4324951171875, log=-835.0436401367188, loss=-446.38897705078125]\n",
            "test - epoch : 107: 100%|██████████| 40/40 [00:02<00:00, 13.37it/s, loss=-471.9698486328125]\n",
            " 54%|█████▍    | 108/200 [35:43<31:06, 20.29s/it]"
          ]
        },
        {
          "output_type": "stream",
          "name": "stdout",
          "text": [
            "epoch train loss:  -455.1052051300698\n"
          ]
        },
        {
          "output_type": "stream",
          "name": "stderr",
          "text": [
            "train - epoch : 108: 100%|██████████| 235/235 [00:17<00:00, 13.68it/s, det=1269.501220703125, log=-834.49072265625, loss=-435.01043701171875]\n",
            "test - epoch : 108: 100%|██████████| 40/40 [00:02<00:00, 17.12it/s, loss=-391.3383483886719]\n",
            " 55%|█████▍    | 109/200 [36:02<30:25, 20.06s/it]"
          ]
        },
        {
          "output_type": "stream",
          "name": "stdout",
          "text": [
            "epoch train loss:  -455.12769996156084\n"
          ]
        },
        {
          "output_type": "stream",
          "name": "stderr",
          "text": [
            "train - epoch : 109: 100%|██████████| 235/235 [00:17<00:00, 13.63it/s, det=1304.5604248046875, log=-808.2050170898438, loss=-496.35540771484375]\n",
            "test - epoch : 109: 100%|██████████| 40/40 [00:03<00:00, 13.16it/s, loss=-391.96343994140625]\n",
            " 55%|█████▌    | 110/200 [36:23<30:11, 20.13s/it]"
          ]
        },
        {
          "output_type": "stream",
          "name": "stdout",
          "text": [
            "epoch train loss:  -455.33324221347243\n"
          ]
        },
        {
          "output_type": "stream",
          "name": "stderr",
          "text": [
            "train - epoch : 110: 100%|██████████| 235/235 [00:17<00:00, 13.15it/s, det=1281.385009765625, log=-837.6983642578125, loss=-443.68670654296875]\n",
            "test - epoch : 110: 100%|██████████| 40/40 [00:02<00:00, 16.43it/s, loss=-538.6806640625]\n",
            " 56%|█████▌    | 111/200 [36:43<29:56, 20.19s/it]"
          ]
        },
        {
          "output_type": "stream",
          "name": "stdout",
          "text": [
            "epoch train loss:  -455.26413898873835\n"
          ]
        },
        {
          "output_type": "stream",
          "name": "stderr",
          "text": [
            "train - epoch : 111: 100%|██████████| 235/235 [00:17<00:00, 13.46it/s, det=1277.041748046875, log=-833.074462890625, loss=-443.9671325683594]\n",
            "test - epoch : 111: 100%|██████████| 40/40 [00:02<00:00, 15.46it/s, loss=-444.9036560058594]\n",
            " 56%|█████▌    | 112/200 [37:03<29:33, 20.15s/it]"
          ]
        },
        {
          "output_type": "stream",
          "name": "stdout",
          "text": [
            "epoch train loss:  -455.30747771567485\n"
          ]
        },
        {
          "output_type": "stream",
          "name": "stderr",
          "text": [
            "train - epoch : 112: 100%|██████████| 235/235 [00:18<00:00, 12.92it/s, det=1280.445068359375, log=-831.8165893554688, loss=-448.62847900390625]\n",
            "test - epoch : 112: 100%|██████████| 40/40 [00:02<00:00, 16.44it/s, loss=-417.3072204589844]\n",
            " 56%|█████▋    | 113/200 [37:24<29:25, 20.30s/it]"
          ]
        },
        {
          "output_type": "stream",
          "name": "stdout",
          "text": [
            "epoch train loss:  -455.35735291825966\n"
          ]
        },
        {
          "output_type": "stream",
          "name": "stderr",
          "text": [
            "train - epoch : 113: 100%|██████████| 235/235 [00:17<00:00, 13.42it/s, det=1273.6063232421875, log=-833.388671875, loss=-440.2176513671875]\n",
            "test - epoch : 113: 100%|██████████| 40/40 [00:02<00:00, 16.39it/s, loss=-447.4404296875]\n",
            " 57%|█████▋    | 114/200 [37:44<28:57, 20.20s/it]"
          ]
        },
        {
          "output_type": "stream",
          "name": "stdout",
          "text": [
            "epoch train loss:  -455.37893391061334\n"
          ]
        },
        {
          "output_type": "stream",
          "name": "stderr",
          "text": [
            "train - epoch : 114: 100%|██████████| 235/235 [00:18<00:00, 12.75it/s, det=1299.7216796875, log=-820.3253784179688, loss=-479.3963317871094]\n",
            "test - epoch : 114: 100%|██████████| 40/40 [00:02<00:00, 13.98it/s, loss=-375.5908508300781]\n",
            " 57%|█████▊    | 115/200 [38:05<29:05, 20.54s/it]"
          ]
        },
        {
          "output_type": "stream",
          "name": "stdout",
          "text": [
            "epoch train loss:  -455.5172224328873\n"
          ]
        },
        {
          "output_type": "stream",
          "name": "stderr",
          "text": [
            "train - epoch : 115: 100%|██████████| 235/235 [00:17<00:00, 13.27it/s, det=1277.11669921875, log=-835.1954345703125, loss=-441.9212341308594]\n",
            "test - epoch : 115: 100%|██████████| 40/40 [00:02<00:00, 16.64it/s, loss=-436.0441589355469]\n",
            " 58%|█████▊    | 116/200 [38:25<28:34, 20.42s/it]"
          ]
        },
        {
          "output_type": "stream",
          "name": "stdout",
          "text": [
            "epoch train loss:  -455.47069624231216\n"
          ]
        },
        {
          "output_type": "stream",
          "name": "stderr",
          "text": [
            "train - epoch : 116: 100%|██████████| 235/235 [00:18<00:00, 13.03it/s, det=1282.6260986328125, log=-821.3229370117188, loss=-461.3031921386719]\n",
            "test - epoch : 116: 100%|██████████| 40/40 [00:02<00:00, 13.76it/s, loss=-466.5859375]\n",
            " 58%|█████▊    | 117/200 [38:46<28:27, 20.58s/it]"
          ]
        },
        {
          "output_type": "stream",
          "name": "stdout",
          "text": [
            "epoch train loss:  -455.55894827335436\n"
          ]
        },
        {
          "output_type": "stream",
          "name": "stderr",
          "text": [
            "train - epoch : 117: 100%|██████████| 235/235 [00:17<00:00, 13.42it/s, det=1281.4942626953125, log=-825.7591552734375, loss=-455.73516845703125]\n",
            "test - epoch : 117: 100%|██████████| 40/40 [00:02<00:00, 16.19it/s, loss=-462.52667236328125]\n",
            " 59%|█████▉    | 118/200 [39:06<27:53, 20.40s/it]"
          ]
        },
        {
          "output_type": "stream",
          "name": "stdout",
          "text": [
            "epoch train loss:  -455.57049664436505\n"
          ]
        },
        {
          "output_type": "stream",
          "name": "stderr",
          "text": [
            "train - epoch : 118: 100%|██████████| 235/235 [00:17<00:00, 13.28it/s, det=1277.1412353515625, log=-823.7672119140625, loss=-453.3740234375]\n",
            "test - epoch : 118: 100%|██████████| 40/40 [00:03<00:00, 12.25it/s, loss=-430.771484375]\n",
            " 60%|█████▉    | 119/200 [39:27<27:46, 20.58s/it]"
          ]
        },
        {
          "output_type": "stream",
          "name": "stdout",
          "text": [
            "epoch train loss:  -455.59788818359374\n"
          ]
        },
        {
          "output_type": "stream",
          "name": "stderr",
          "text": [
            "train - epoch : 119: 100%|██████████| 235/235 [00:17<00:00, 13.60it/s, det=1284.07470703125, log=-826.5020751953125, loss=-457.57269287109375]\n",
            "test - epoch : 119: 100%|██████████| 40/40 [00:02<00:00, 17.21it/s, loss=-458.18572998046875]\n",
            " 60%|██████    | 120/200 [39:47<27:03, 20.29s/it]"
          ]
        },
        {
          "output_type": "stream",
          "name": "stdout",
          "text": [
            "epoch train loss:  -455.640057762633\n"
          ]
        },
        {
          "output_type": "stream",
          "name": "stderr",
          "text": [
            "train - epoch : 120: 100%|██████████| 235/235 [00:17<00:00, 13.64it/s, det=1277.443603515625, log=-824.0096435546875, loss=-453.433837890625]\n",
            "test - epoch : 120: 100%|██████████| 40/40 [00:02<00:00, 13.92it/s, loss=-489.18115234375]\n",
            " 60%|██████    | 121/200 [40:07<26:38, 20.24s/it]"
          ]
        },
        {
          "output_type": "stream",
          "name": "stdout",
          "text": [
            "epoch train loss:  -455.6741843365608\n"
          ]
        },
        {
          "output_type": "stream",
          "name": "stderr",
          "text": [
            "train - epoch : 121: 100%|██████████| 235/235 [00:17<00:00, 13.30it/s, det=1287.3094482421875, log=-827.060791015625, loss=-460.24859619140625]\n",
            "test - epoch : 121: 100%|██████████| 40/40 [00:02<00:00, 15.96it/s, loss=-429.98748779296875]\n",
            " 61%|██████    | 122/200 [40:27<26:17, 20.23s/it]"
          ]
        },
        {
          "output_type": "stream",
          "name": "stdout",
          "text": [
            "epoch train loss:  -455.7212972438082\n"
          ]
        },
        {
          "output_type": "stream",
          "name": "stderr",
          "text": [
            "train - epoch : 122: 100%|██████████| 235/235 [00:17<00:00, 13.44it/s, det=1262.599853515625, log=-841.1432495117188, loss=-421.45654296875]\n",
            "test - epoch : 122: 100%|██████████| 40/40 [00:02<00:00, 16.72it/s, loss=-441.32476806640625]\n",
            " 62%|██████▏   | 123/200 [40:47<25:50, 20.13s/it]"
          ]
        },
        {
          "output_type": "stream",
          "name": "stdout",
          "text": [
            "epoch train loss:  -455.64040358523107\n"
          ]
        },
        {
          "output_type": "stream",
          "name": "stderr",
          "text": [
            "train - epoch : 123: 100%|██████████| 235/235 [00:18<00:00, 12.90it/s, det=1278.7723388671875, log=-835.5819091796875, loss=-443.1903991699219]\n",
            "test - epoch : 123: 100%|██████████| 40/40 [00:02<00:00, 16.92it/s, loss=-416.7221984863281]\n",
            " 62%|██████▏   | 124/200 [41:07<25:40, 20.27s/it]"
          ]
        },
        {
          "output_type": "stream",
          "name": "stdout",
          "text": [
            "epoch train loss:  -455.72554671916555\n"
          ]
        },
        {
          "output_type": "stream",
          "name": "stderr",
          "text": [
            "train - epoch : 124: 100%|██████████| 235/235 [00:17<00:00, 13.76it/s, det=1294.5308837890625, log=-820.2784423828125, loss=-474.25244140625]\n",
            "test - epoch : 124: 100%|██████████| 40/40 [00:02<00:00, 16.00it/s, loss=-311.9329833984375]\n",
            " 62%|██████▎   | 125/200 [41:27<25:05, 20.07s/it]"
          ]
        },
        {
          "output_type": "stream",
          "name": "stdout",
          "text": [
            "epoch train loss:  -455.83202008186504\n"
          ]
        },
        {
          "output_type": "stream",
          "name": "stderr",
          "text": [
            "train - epoch : 125: 100%|██████████| 235/235 [00:17<00:00, 13.22it/s, det=1289.737060546875, log=-831.6055908203125, loss=-458.13134765625]\n",
            "test - epoch : 125: 100%|██████████| 40/40 [00:02<00:00, 13.56it/s, loss=-501.46661376953125]\n",
            " 63%|██████▎   | 126/200 [41:48<25:00, 20.27s/it]"
          ]
        },
        {
          "output_type": "stream",
          "name": "stdout",
          "text": [
            "epoch train loss:  -455.8244625010389\n"
          ]
        },
        {
          "output_type": "stream",
          "name": "stderr",
          "text": [
            "train - epoch : 126: 100%|██████████| 235/235 [00:17<00:00, 13.42it/s, det=1271.5347900390625, log=-831.845703125, loss=-439.68914794921875]\n",
            "test - epoch : 126: 100%|██████████| 40/40 [00:02<00:00, 16.69it/s, loss=-482.7562255859375]\n",
            " 64%|██████▎   | 127/200 [42:08<24:32, 20.17s/it]"
          ]
        },
        {
          "output_type": "stream",
          "name": "stdout",
          "text": [
            "epoch train loss:  -455.79789831283244\n"
          ]
        },
        {
          "output_type": "stream",
          "name": "stderr",
          "text": [
            "train - epoch : 127: 100%|██████████| 235/235 [00:17<00:00, 13.76it/s, det=1295.8973388671875, log=-823.4313354492188, loss=-472.46600341796875]\n",
            "test - epoch : 127: 100%|██████████| 40/40 [00:03<00:00, 12.48it/s, loss=-390.8128356933594]\n",
            " 64%|██████▍   | 128/200 [42:28<24:14, 20.20s/it]"
          ]
        },
        {
          "output_type": "stream",
          "name": "stdout",
          "text": [
            "epoch train loss:  -455.90341848819816\n"
          ]
        },
        {
          "output_type": "stream",
          "name": "stderr",
          "text": [
            "train - epoch : 128: 100%|██████████| 235/235 [00:17<00:00, 13.42it/s, det=1279.8128662109375, log=-822.5484619140625, loss=-457.2644958496094]\n",
            "test - epoch : 128: 100%|██████████| 40/40 [00:02<00:00, 16.49it/s, loss=-441.9354553222656]\n",
            " 64%|██████▍   | 129/200 [42:48<23:48, 20.13s/it]"
          ]
        },
        {
          "output_type": "stream",
          "name": "stdout",
          "text": [
            "epoch train loss:  -455.8878415371509\n"
          ]
        },
        {
          "output_type": "stream",
          "name": "stderr",
          "text": [
            "train - epoch : 129: 100%|██████████| 235/235 [00:17<00:00, 13.54it/s, det=1267.940185546875, log=-855.5670776367188, loss=-412.37310791015625]\n",
            "test - epoch : 129: 100%|██████████| 40/40 [00:02<00:00, 15.21it/s, loss=-422.51739501953125]\n",
            " 65%|██████▌   | 130/200 [43:08<23:26, 20.09s/it]"
          ]
        },
        {
          "output_type": "stream",
          "name": "stdout",
          "text": [
            "epoch train loss:  -455.78671108813995\n"
          ]
        },
        {
          "output_type": "stream",
          "name": "stderr",
          "text": [
            "train - epoch : 130: 100%|██████████| 235/235 [00:17<00:00, 13.20it/s, det=1298.411865234375, log=-825.6878662109375, loss=-472.723876953125]\n",
            "test - epoch : 130: 100%|██████████| 40/40 [00:02<00:00, 16.49it/s, loss=-412.0142822265625]\n",
            " 66%|██████▌   | 131/200 [43:28<23:09, 20.13s/it]"
          ]
        },
        {
          "output_type": "stream",
          "name": "stdout",
          "text": [
            "epoch train loss:  -455.97376566136137\n"
          ]
        },
        {
          "output_type": "stream",
          "name": "stderr",
          "text": [
            "train - epoch : 131: 100%|██████████| 235/235 [00:17<00:00, 13.59it/s, det=1280.538330078125, log=-834.7939453125, loss=-445.7443542480469]\n",
            "test - epoch : 131: 100%|██████████| 40/40 [00:02<00:00, 16.62it/s, loss=-484.3572998046875]\n",
            " 66%|██████▌   | 132/200 [43:48<22:40, 20.01s/it]"
          ]
        },
        {
          "output_type": "stream",
          "name": "stdout",
          "text": [
            "epoch train loss:  -455.9200462828291\n"
          ]
        },
        {
          "output_type": "stream",
          "name": "stderr",
          "text": [
            "train - epoch : 132: 100%|██████████| 235/235 [00:18<00:00, 13.03it/s, det=1284.462158203125, log=-834.7645263671875, loss=-449.69769287109375]\n",
            "test - epoch : 132: 100%|██████████| 40/40 [00:02<00:00, 14.75it/s, loss=-423.79833984375]\n",
            " 66%|██████▋   | 133/200 [44:09<22:35, 20.24s/it]"
          ]
        },
        {
          "output_type": "stream",
          "name": "stdout",
          "text": [
            "epoch train loss:  -455.9483281561669\n"
          ]
        },
        {
          "output_type": "stream",
          "name": "stderr",
          "text": [
            "train - epoch : 133: 100%|██████████| 235/235 [00:17<00:00, 13.59it/s, det=1284.8612060546875, log=-822.2633666992188, loss=-462.5978698730469]\n",
            "test - epoch : 133: 100%|██████████| 40/40 [00:02<00:00, 16.97it/s, loss=-367.6790771484375]\n",
            " 67%|██████▋   | 134/200 [44:28<22:04, 20.07s/it]"
          ]
        },
        {
          "output_type": "stream",
          "name": "stdout",
          "text": [
            "epoch train loss:  -455.9978368880901\n"
          ]
        },
        {
          "output_type": "stream",
          "name": "stderr",
          "text": [
            "train - epoch : 134: 100%|██████████| 235/235 [00:17<00:00, 13.36it/s, det=1279.5745849609375, log=-829.7025146484375, loss=-449.8721618652344]\n",
            "test - epoch : 134: 100%|██████████| 40/40 [00:03<00:00, 12.56it/s, loss=-430.77130126953125]\n",
            " 68%|██████▊   | 135/200 [44:49<21:58, 20.29s/it]"
          ]
        },
        {
          "output_type": "stream",
          "name": "stdout",
          "text": [
            "epoch train loss:  -455.9808050926695\n"
          ]
        },
        {
          "output_type": "stream",
          "name": "stderr",
          "text": [
            "train - epoch : 135: 100%|██████████| 235/235 [00:17<00:00, 13.60it/s, det=1271.783935546875, log=-833.21826171875, loss=-438.56561279296875]\n",
            "test - epoch : 135: 100%|██████████| 40/40 [00:02<00:00, 17.03it/s, loss=-489.026123046875]\n",
            " 68%|██████▊   | 136/200 [45:09<21:25, 20.09s/it]"
          ]
        },
        {
          "output_type": "stream",
          "name": "stdout",
          "text": [
            "epoch train loss:  -455.9735776211353\n"
          ]
        },
        {
          "output_type": "stream",
          "name": "stderr",
          "text": [
            "train - epoch : 136: 100%|██████████| 235/235 [00:17<00:00, 13.60it/s, det=1298.8939208984375, log=-831.2965087890625, loss=-467.5975036621094]\n",
            "test - epoch : 136: 100%|██████████| 40/40 [00:02<00:00, 14.98it/s, loss=-409.6298828125]\n",
            " 68%|██████▊   | 137/200 [45:29<21:03, 20.06s/it]"
          ]
        },
        {
          "output_type": "stream",
          "name": "stdout",
          "text": [
            "epoch train loss:  -456.0640873036486\n"
          ]
        },
        {
          "output_type": "stream",
          "name": "stderr",
          "text": [
            "train - epoch : 137: 100%|██████████| 235/235 [00:17<00:00, 13.10it/s, det=1265.0789794921875, log=-834.17919921875, loss=-430.89971923828125]\n",
            "test - epoch : 137: 100%|██████████| 40/40 [00:02<00:00, 17.20it/s, loss=-450.3056640625]\n",
            " 69%|██████▉   | 138/200 [45:49<20:47, 20.13s/it]"
          ]
        },
        {
          "output_type": "stream",
          "name": "stdout",
          "text": [
            "epoch train loss:  -455.9784941977643\n"
          ]
        },
        {
          "output_type": "stream",
          "name": "stderr",
          "text": [
            "train - epoch : 138: 100%|██████████| 235/235 [00:17<00:00, 13.53it/s, det=1271.965087890625, log=-841.1537475585938, loss=-430.811279296875]\n",
            "test - epoch : 138: 100%|██████████| 40/40 [00:02<00:00, 16.98it/s, loss=-327.99981689453125]\n",
            " 70%|██████▉   | 139/200 [46:09<20:20, 20.01s/it]"
          ]
        },
        {
          "output_type": "stream",
          "name": "stdout",
          "text": [
            "epoch train loss:  -455.99255306162735\n"
          ]
        },
        {
          "output_type": "stream",
          "name": "stderr",
          "text": [
            "train - epoch : 139: 100%|██████████| 235/235 [00:18<00:00, 12.98it/s, det=1283.517822265625, log=-819.1105346679688, loss=-464.4072265625]\n",
            "test - epoch : 139: 100%|██████████| 40/40 [00:02<00:00, 15.76it/s, loss=-471.78338623046875]\n",
            " 70%|███████   | 140/200 [46:29<20:12, 20.21s/it]"
          ]
        },
        {
          "output_type": "stream",
          "name": "stdout",
          "text": [
            "epoch train loss:  -456.0952092596825\n"
          ]
        },
        {
          "output_type": "stream",
          "name": "stderr",
          "text": [
            "train - epoch : 140: 100%|██████████| 235/235 [00:17<00:00, 13.30it/s, det=1276.9921875, log=-827.4075927734375, loss=-449.584716796875]\n",
            "test - epoch : 140: 100%|██████████| 40/40 [00:02<00:00, 16.49it/s, loss=-399.8280029296875]\n",
            " 70%|███████   | 141/200 [46:49<19:50, 20.18s/it]"
          ]
        },
        {
          "output_type": "stream",
          "name": "stdout",
          "text": [
            "epoch train loss:  -456.0751364849983\n"
          ]
        },
        {
          "output_type": "stream",
          "name": "stderr",
          "text": [
            "train - epoch : 141: 100%|██████████| 235/235 [00:17<00:00, 13.36it/s, det=1285.967529296875, log=-820.6537475585938, loss=-465.3136901855469]\n",
            "test - epoch : 141: 100%|██████████| 40/40 [00:03<00:00, 13.28it/s, loss=-453.24993896484375]\n",
            " 71%|███████   | 142/200 [47:10<19:38, 20.31s/it]"
          ]
        },
        {
          "output_type": "stream",
          "name": "stdout",
          "text": [
            "epoch train loss:  -456.12683131441156\n"
          ]
        },
        {
          "output_type": "stream",
          "name": "stderr",
          "text": [
            "train - epoch : 142: 100%|██████████| 235/235 [00:17<00:00, 13.62it/s, det=1275.559814453125, log=-833.197021484375, loss=-442.36279296875]\n",
            "test - epoch : 142: 100%|██████████| 40/40 [00:02<00:00, 17.01it/s, loss=-433.821044921875]\n",
            " 72%|███████▏  | 143/200 [47:30<19:06, 20.11s/it]"
          ]
        },
        {
          "output_type": "stream",
          "name": "stdout",
          "text": [
            "epoch train loss:  -456.0766560006649\n"
          ]
        },
        {
          "output_type": "stream",
          "name": "stderr",
          "text": [
            "train - epoch : 143: 100%|██████████| 235/235 [00:17<00:00, 13.59it/s, det=1281.4149169921875, log=-835.60546875, loss=-445.809326171875]\n",
            "test - epoch : 143: 100%|██████████| 40/40 [00:03<00:00, 13.01it/s, loss=-422.0978088378906]\n",
            " 72%|███████▏  | 144/200 [47:50<18:50, 20.19s/it]"
          ]
        },
        {
          "output_type": "stream",
          "name": "stdout",
          "text": [
            "epoch train loss:  -456.0958341557929\n"
          ]
        },
        {
          "output_type": "stream",
          "name": "stderr",
          "text": [
            "train - epoch : 144: 100%|██████████| 235/235 [00:17<00:00, 13.37it/s, det=1284.6378173828125, log=-828.1647338867188, loss=-456.47308349609375]\n",
            "test - epoch : 144: 100%|██████████| 40/40 [00:02<00:00, 16.98it/s, loss=-475.4300537109375]\n",
            " 72%|███████▎  | 145/200 [48:10<18:26, 20.12s/it]"
          ]
        },
        {
          "output_type": "stream",
          "name": "stdout",
          "text": [
            "epoch train loss:  -456.13554921251665\n"
          ]
        },
        {
          "output_type": "stream",
          "name": "stderr",
          "text": [
            "train - epoch : 145: 100%|██████████| 235/235 [00:17<00:00, 13.67it/s, det=1299.0755615234375, log=-815.4163818359375, loss=-483.6591796875]\n",
            "test - epoch : 145: 100%|██████████| 40/40 [00:02<00:00, 15.55it/s, loss=-459.3614501953125]\n",
            " 73%|███████▎  | 146/200 [48:30<18:01, 20.03s/it]"
          ]
        },
        {
          "output_type": "stream",
          "name": "stdout",
          "text": [
            "epoch train loss:  -456.2223039343002\n"
          ]
        },
        {
          "output_type": "stream",
          "name": "stderr",
          "text": [
            "train - epoch : 146: 100%|██████████| 235/235 [00:18<00:00, 12.83it/s, det=1277.3782958984375, log=-823.0245971679688, loss=-454.3537292480469]\n",
            "test - epoch : 146: 100%|██████████| 40/40 [00:02<00:00, 16.77it/s, loss=-459.09765625]\n",
            " 74%|███████▎  | 147/200 [48:51<17:52, 20.24s/it]"
          ]
        },
        {
          "output_type": "stream",
          "name": "stdout",
          "text": [
            "epoch train loss:  -456.1531126631067\n"
          ]
        },
        {
          "output_type": "stream",
          "name": "stderr",
          "text": [
            "train - epoch : 147: 100%|██████████| 235/235 [00:17<00:00, 13.39it/s, det=1285.02783203125, log=-826.4284057617188, loss=-458.599365234375]\n",
            "test - epoch : 147: 100%|██████████| 40/40 [00:02<00:00, 16.70it/s, loss=-449.80865478515625]\n",
            " 74%|███████▍  | 148/200 [49:11<17:28, 20.16s/it]"
          ]
        },
        {
          "output_type": "stream",
          "name": "stdout",
          "text": [
            "epoch train loss:  -456.1722512103142\n"
          ]
        },
        {
          "output_type": "stream",
          "name": "stderr",
          "text": [
            "train - epoch : 148: 100%|██████████| 235/235 [00:17<00:00, 13.48it/s, det=1276.8040771484375, log=-834.0355224609375, loss=-442.76861572265625]\n",
            "test - epoch : 148: 100%|██████████| 40/40 [00:02<00:00, 13.71it/s, loss=-444.4083557128906]\n",
            " 74%|███████▍  | 149/200 [49:31<17:11, 20.22s/it]"
          ]
        },
        {
          "output_type": "stream",
          "name": "stdout",
          "text": [
            "epoch train loss:  -456.13960960875164\n"
          ]
        },
        {
          "output_type": "stream",
          "name": "stderr",
          "text": [
            "train - epoch : 149: 100%|██████████| 235/235 [00:17<00:00, 13.50it/s, det=1288.30908203125, log=-821.6463623046875, loss=-466.662841796875]\n",
            "test - epoch : 149: 100%|██████████| 40/40 [00:02<00:00, 16.94it/s, loss=-422.8368835449219]\n",
            " 75%|███████▌  | 150/200 [49:51<16:44, 20.09s/it]"
          ]
        },
        {
          "output_type": "stream",
          "name": "stdout",
          "text": [
            "epoch train loss:  -456.21169537483377\n"
          ]
        },
        {
          "output_type": "stream",
          "name": "stderr",
          "text": [
            "train - epoch : 150: 100%|██████████| 235/235 [00:17<00:00, 13.57it/s, det=1283.3543701171875, log=-821.8119506835938, loss=-461.54241943359375]\n",
            "test - epoch : 150: 100%|██████████| 40/40 [00:03<00:00, 12.93it/s, loss=-470.63006591796875]\n",
            " 76%|███████▌  | 151/200 [50:11<16:29, 20.20s/it]"
          ]
        },
        {
          "output_type": "stream",
          "name": "stdout",
          "text": [
            "epoch train loss:  -456.20876283036904\n"
          ]
        },
        {
          "output_type": "stream",
          "name": "stderr",
          "text": [
            "train - epoch : 151: 100%|██████████| 235/235 [00:17<00:00, 13.50it/s, det=1283.20556640625, log=-833.6107177734375, loss=-449.59490966796875]\n",
            "test - epoch : 151: 100%|██████████| 40/40 [00:02<00:00, 16.43it/s, loss=-420.504638671875]\n",
            " 76%|███████▌  | 152/200 [50:31<16:04, 20.10s/it]"
          ]
        },
        {
          "output_type": "stream",
          "name": "stdout",
          "text": [
            "epoch train loss:  -456.184840685256\n"
          ]
        },
        {
          "output_type": "stream",
          "name": "stderr",
          "text": [
            "train - epoch : 152: 100%|██████████| 235/235 [00:17<00:00, 13.49it/s, det=1274.6754150390625, log=-831.7584228515625, loss=-442.91693115234375]\n",
            "test - epoch : 152: 100%|██████████| 40/40 [00:02<00:00, 15.38it/s, loss=-428.35699462890625]\n",
            " 76%|███████▋  | 153/200 [50:51<15:43, 20.08s/it]"
          ]
        },
        {
          "output_type": "stream",
          "name": "stdout",
          "text": [
            "epoch train loss:  -456.17306609458115\n"
          ]
        },
        {
          "output_type": "stream",
          "name": "stderr",
          "text": [
            "train - epoch : 153: 100%|██████████| 235/235 [00:17<00:00, 13.21it/s, det=1287.891357421875, log=-832.6735229492188, loss=-455.2177734375]\n",
            "test - epoch : 153: 100%|██████████| 40/40 [00:02<00:00, 17.18it/s, loss=-449.87835693359375]\n",
            " 77%|███████▋  | 154/200 [51:11<15:24, 20.09s/it]"
          ]
        },
        {
          "output_type": "stream",
          "name": "stdout",
          "text": [
            "epoch train loss:  -456.2134225398936\n"
          ]
        },
        {
          "output_type": "stream",
          "name": "stderr",
          "text": [
            "train - epoch : 154: 100%|██████████| 235/235 [00:17<00:00, 13.53it/s, det=1273.9521484375, log=-827.1471557617188, loss=-446.804931640625]\n",
            "test - epoch : 154: 100%|██████████| 40/40 [00:02<00:00, 16.19it/s, loss=-443.6129455566406]\n",
            " 78%|███████▊  | 155/200 [51:31<15:01, 20.03s/it]"
          ]
        },
        {
          "output_type": "stream",
          "name": "stdout",
          "text": [
            "epoch train loss:  -456.1978461082945\n"
          ]
        },
        {
          "output_type": "stream",
          "name": "stderr",
          "text": [
            "train - epoch : 155: 100%|██████████| 235/235 [00:18<00:00, 13.04it/s, det=1281.7391357421875, log=-830.4137573242188, loss=-451.325439453125]\n",
            "test - epoch : 155: 100%|██████████| 40/40 [00:02<00:00, 14.93it/s, loss=-399.662353515625]\n",
            " 78%|███████▊  | 156/200 [51:52<14:50, 20.23s/it]"
          ]
        },
        {
          "output_type": "stream",
          "name": "stdout",
          "text": [
            "epoch train loss:  -456.21939333651926\n"
          ]
        },
        {
          "output_type": "stream",
          "name": "stderr",
          "text": [
            "train - epoch : 156: 100%|██████████| 235/235 [00:17<00:00, 13.48it/s, det=1286.246826171875, log=-819.2194213867188, loss=-467.02734375]\n",
            "test - epoch : 156: 100%|██████████| 40/40 [00:02<00:00, 16.96it/s, loss=-411.11773681640625]\n",
            " 78%|███████▊  | 157/200 [52:12<14:24, 20.11s/it]"
          ]
        },
        {
          "output_type": "stream",
          "name": "stdout",
          "text": [
            "epoch train loss:  -456.2668446642287\n"
          ]
        },
        {
          "output_type": "stream",
          "name": "stderr",
          "text": [
            "train - epoch : 157: 100%|██████████| 235/235 [00:17<00:00, 13.48it/s, det=1276.664306640625, log=-826.374755859375, loss=-450.28955078125]\n",
            "test - epoch : 157: 100%|██████████| 40/40 [00:03<00:00, 12.95it/s, loss=-455.94110107421875]\n",
            " 79%|███████▉  | 158/200 [52:32<14:09, 20.24s/it]"
          ]
        },
        {
          "output_type": "stream",
          "name": "stdout",
          "text": [
            "epoch train loss:  -456.2275410104305\n"
          ]
        },
        {
          "output_type": "stream",
          "name": "stderr",
          "text": [
            "train - epoch : 158: 100%|██████████| 235/235 [00:17<00:00, 13.20it/s, det=1284.67529296875, log=-820.5980224609375, loss=-464.0772399902344]\n",
            "test - epoch : 158: 100%|██████████| 40/40 [00:02<00:00, 16.59it/s, loss=-469.35150146484375]\n",
            " 80%|███████▉  | 159/200 [52:52<13:49, 20.23s/it]"
          ]
        },
        {
          "output_type": "stream",
          "name": "stdout",
          "text": [
            "epoch train loss:  -456.26990369431513\n"
          ]
        },
        {
          "output_type": "stream",
          "name": "stderr",
          "text": [
            "train - epoch : 159: 100%|██████████| 235/235 [00:17<00:00, 13.38it/s, det=1290.9619140625, log=-824.74462890625, loss=-466.2173767089844]\n",
            "test - epoch : 159: 100%|██████████| 40/40 [00:02<00:00, 13.72it/s, loss=-466.5926208496094]\n",
            " 80%|████████  | 160/200 [53:13<13:32, 20.31s/it]"
          ]
        },
        {
          "output_type": "stream",
          "name": "stdout",
          "text": [
            "epoch train loss:  -456.2809622257314\n"
          ]
        },
        {
          "output_type": "stream",
          "name": "stderr",
          "text": [
            "train - epoch : 160: 100%|██████████| 235/235 [00:17<00:00, 13.19it/s, det=1274.83447265625, log=-826.6649169921875, loss=-448.16961669921875]\n",
            "test - epoch : 160: 100%|██████████| 40/40 [00:02<00:00, 16.51it/s, loss=-430.4128723144531]\n",
            " 80%|████████  | 161/200 [53:33<13:11, 20.30s/it]"
          ]
        },
        {
          "output_type": "stream",
          "name": "stdout",
          "text": [
            "epoch train loss:  -456.2410253646526\n"
          ]
        },
        {
          "output_type": "stream",
          "name": "stderr",
          "text": [
            "train - epoch : 161: 100%|██████████| 235/235 [00:17<00:00, 13.36it/s, det=1277.0361328125, log=-833.439208984375, loss=-443.596923828125]\n",
            "test - epoch : 161: 100%|██████████| 40/40 [00:02<00:00, 15.70it/s, loss=-409.0523681640625]\n",
            " 81%|████████  | 162/200 [53:53<12:49, 20.26s/it]"
          ]
        },
        {
          "output_type": "stream",
          "name": "stdout",
          "text": [
            "epoch train loss:  -456.2326056297789\n"
          ]
        },
        {
          "output_type": "stream",
          "name": "stderr",
          "text": [
            "train - epoch : 162: 100%|██████████| 235/235 [00:18<00:00, 12.82it/s, det=1270.334716796875, log=-835.7352294921875, loss=-434.5994567871094]\n",
            "test - epoch : 162: 100%|██████████| 40/40 [00:02<00:00, 16.33it/s, loss=-450.44012451171875]\n",
            " 82%|████████▏ | 163/200 [54:14<12:35, 20.42s/it]"
          ]
        },
        {
          "output_type": "stream",
          "name": "stdout",
          "text": [
            "epoch train loss:  -456.2133043654421\n"
          ]
        },
        {
          "output_type": "stream",
          "name": "stderr",
          "text": [
            "train - epoch : 163: 100%|██████████| 235/235 [00:17<00:00, 13.50it/s, det=1291.363525390625, log=-823.0394897460938, loss=-468.323974609375]\n",
            "test - epoch : 163: 100%|██████████| 40/40 [00:02<00:00, 16.15it/s, loss=-447.12591552734375]\n",
            " 82%|████████▏ | 164/200 [54:34<12:09, 20.27s/it]"
          ]
        },
        {
          "output_type": "stream",
          "name": "stdout",
          "text": [
            "epoch train loss:  -456.3074861567071\n"
          ]
        },
        {
          "output_type": "stream",
          "name": "stderr",
          "text": [
            "train - epoch : 164: 100%|██████████| 235/235 [00:18<00:00, 12.84it/s, det=1284.1038818359375, log=-816.90966796875, loss=-467.19415283203125]\n",
            "test - epoch : 164: 100%|██████████| 40/40 [00:02<00:00, 14.43it/s, loss=-478.9042053222656]\n",
            " 82%|████████▎ | 165/200 [54:55<11:58, 20.52s/it]"
          ]
        },
        {
          "output_type": "stream",
          "name": "stdout",
          "text": [
            "epoch train loss:  -456.30869088680186\n"
          ]
        },
        {
          "output_type": "stream",
          "name": "stderr",
          "text": [
            "train - epoch : 165: 100%|██████████| 235/235 [00:17<00:00, 13.38it/s, det=1290.7755126953125, log=-822.0621337890625, loss=-468.71337890625]\n",
            "test - epoch : 165: 100%|██████████| 40/40 [00:02<00:00, 16.84it/s, loss=-452.0407409667969]\n",
            " 83%|████████▎ | 166/200 [55:15<11:31, 20.35s/it]"
          ]
        },
        {
          "output_type": "stream",
          "name": "stdout",
          "text": [
            "epoch train loss:  -456.3194042449302\n"
          ]
        },
        {
          "output_type": "stream",
          "name": "stderr",
          "text": [
            "train - epoch : 166: 100%|██████████| 235/235 [00:17<00:00, 13.26it/s, det=1293.565673828125, log=-825.1370849609375, loss=-468.42852783203125]\n",
            "test - epoch : 166: 100%|██████████| 40/40 [00:03<00:00, 13.08it/s, loss=-321.6520690917969]\n",
            " 84%|████████▎ | 167/200 [55:36<11:15, 20.48s/it]"
          ]
        },
        {
          "output_type": "stream",
          "name": "stdout",
          "text": [
            "epoch train loss:  -456.32199044734875\n"
          ]
        },
        {
          "output_type": "stream",
          "name": "stderr",
          "text": [
            "train - epoch : 167: 100%|██████████| 235/235 [00:17<00:00, 13.42it/s, det=1283.361083984375, log=-831.73876953125, loss=-451.62225341796875]\n",
            "test - epoch : 167: 100%|██████████| 40/40 [00:02<00:00, 16.63it/s, loss=-510.37762451171875]\n",
            " 84%|████████▍ | 168/200 [55:56<10:50, 20.32s/it]"
          ]
        },
        {
          "output_type": "stream",
          "name": "stdout",
          "text": [
            "epoch train loss:  -456.28076938061\n"
          ]
        },
        {
          "output_type": "stream",
          "name": "stderr",
          "text": [
            "train - epoch : 168: 100%|██████████| 235/235 [00:17<00:00, 13.38it/s, det=1280.354248046875, log=-837.31005859375, loss=-443.0440368652344]\n",
            "test - epoch : 168: 100%|██████████| 40/40 [00:03<00:00, 13.19it/s, loss=-458.60382080078125]\n",
            " 84%|████████▍ | 169/200 [56:16<10:32, 20.41s/it]"
          ]
        },
        {
          "output_type": "stream",
          "name": "stdout",
          "text": [
            "epoch train loss:  -456.26175796833445\n"
          ]
        },
        {
          "output_type": "stream",
          "name": "stderr",
          "text": [
            "train - epoch : 169: 100%|██████████| 235/235 [00:18<00:00, 12.93it/s, det=1269.9012451171875, log=-831.2675170898438, loss=-438.63372802734375]\n",
            "test - epoch : 169: 100%|██████████| 40/40 [00:02<00:00, 15.63it/s, loss=-458.9359130859375]\n",
            " 85%|████████▌ | 170/200 [56:37<10:15, 20.51s/it]"
          ]
        },
        {
          "output_type": "stream",
          "name": "stdout",
          "text": [
            "epoch train loss:  -456.2531039623504\n"
          ]
        },
        {
          "output_type": "stream",
          "name": "stderr",
          "text": [
            "train - epoch : 170: 100%|██████████| 235/235 [00:17<00:00, 13.47it/s, det=1268.152099609375, log=-827.3952026367188, loss=-440.7569274902344]\n",
            "test - epoch : 170: 100%|██████████| 40/40 [00:02<00:00, 14.90it/s, loss=-456.4809265136719]\n",
            " 86%|████████▌ | 171/200 [56:57<09:51, 20.40s/it]"
          ]
        },
        {
          "output_type": "stream",
          "name": "stdout",
          "text": [
            "epoch train loss:  -456.26381654130654\n"
          ]
        },
        {
          "output_type": "stream",
          "name": "stderr",
          "text": [
            "train - epoch : 171: 100%|██████████| 235/235 [00:18<00:00, 12.69it/s, det=1270.50146484375, log=-832.6701049804688, loss=-437.83135986328125]\n",
            "test - epoch : 171: 100%|██████████| 40/40 [00:02<00:00, 16.62it/s, loss=-446.2614440917969]\n",
            " 86%|████████▌ | 172/200 [57:18<09:35, 20.57s/it]"
          ]
        },
        {
          "output_type": "stream",
          "name": "stdout",
          "text": [
            "epoch train loss:  -456.2590312551945\n"
          ]
        },
        {
          "output_type": "stream",
          "name": "stderr",
          "text": [
            "train - epoch : 172: 100%|██████████| 235/235 [00:17<00:00, 13.47it/s, det=1264.33544921875, log=-830.3074951171875, loss=-434.02801513671875]\n",
            "test - epoch : 172: 100%|██████████| 40/40 [00:02<00:00, 16.29it/s, loss=-499.607666015625]\n",
            " 86%|████████▋ | 173/200 [57:38<09:10, 20.37s/it]"
          ]
        },
        {
          "output_type": "stream",
          "name": "stdout",
          "text": [
            "epoch train loss:  -456.25159873150767\n"
          ]
        },
        {
          "output_type": "stream",
          "name": "stderr",
          "text": [
            "train - epoch : 173: 100%|██████████| 235/235 [00:18<00:00, 12.97it/s, det=1269.690673828125, log=-819.785888671875, loss=-449.9046325683594]\n",
            "test - epoch : 173: 100%|██████████| 40/40 [00:02<00:00, 14.93it/s, loss=-492.78216552734375]\n",
            " 87%|████████▋ | 174/200 [57:59<08:53, 20.51s/it]"
          ]
        },
        {
          "output_type": "stream",
          "name": "stdout",
          "text": [
            "epoch train loss:  -456.29646723321144\n"
          ]
        },
        {
          "output_type": "stream",
          "name": "stderr",
          "text": [
            "train - epoch : 174: 100%|██████████| 235/235 [00:17<00:00, 13.36it/s, det=1282.3880615234375, log=-821.7772216796875, loss=-460.6108093261719]\n",
            "test - epoch : 174: 100%|██████████| 40/40 [00:02<00:00, 16.45it/s, loss=-404.7117004394531]\n",
            " 88%|████████▊ | 175/200 [58:19<08:29, 20.36s/it]"
          ]
        },
        {
          "output_type": "stream",
          "name": "stdout",
          "text": [
            "epoch train loss:  -456.32737102102726\n"
          ]
        },
        {
          "output_type": "stream",
          "name": "stderr",
          "text": [
            "train - epoch : 175: 100%|██████████| 235/235 [00:18<00:00, 13.01it/s, det=1280.58935546875, log=-826.2047119140625, loss=-454.3846130371094]\n",
            "test - epoch : 175: 100%|██████████| 40/40 [00:02<00:00, 13.47it/s, loss=-451.45574951171875]\n",
            " 88%|████████▊ | 176/200 [58:40<08:13, 20.57s/it]"
          ]
        },
        {
          "output_type": "stream",
          "name": "stdout",
          "text": [
            "epoch train loss:  -456.3155295514046\n"
          ]
        },
        {
          "output_type": "stream",
          "name": "stderr",
          "text": [
            "train - epoch : 176: 100%|██████████| 235/235 [00:17<00:00, 13.44it/s, det=1284.5478515625, log=-820.1651611328125, loss=-464.3826904296875]\n",
            "test - epoch : 176: 100%|██████████| 40/40 [00:02<00:00, 16.12it/s, loss=-411.9957580566406]\n",
            " 88%|████████▊ | 177/200 [59:00<07:49, 20.39s/it]"
          ]
        },
        {
          "output_type": "stream",
          "name": "stdout",
          "text": [
            "epoch train loss:  -456.34439892058674\n"
          ]
        },
        {
          "output_type": "stream",
          "name": "stderr",
          "text": [
            "train - epoch : 177: 100%|██████████| 235/235 [00:17<00:00, 13.28it/s, det=1284.5511474609375, log=-829.1994018554688, loss=-455.351806640625]\n",
            "test - epoch : 177: 100%|██████████| 40/40 [00:03<00:00, 13.07it/s, loss=-401.1043701171875]\n",
            " 89%|████████▉ | 178/200 [59:21<07:31, 20.51s/it]"
          ]
        },
        {
          "output_type": "stream",
          "name": "stdout",
          "text": [
            "epoch train loss:  -456.32222744556185\n"
          ]
        },
        {
          "output_type": "stream",
          "name": "stderr",
          "text": [
            "train - epoch : 178: 100%|██████████| 235/235 [00:18<00:00, 12.99it/s, det=1287.53466796875, log=-823.2080078125, loss=-464.32666015625]\n",
            "test - epoch : 178: 100%|██████████| 40/40 [00:02<00:00, 16.74it/s, loss=-435.17822265625]\n",
            " 90%|████████▉ | 179/200 [59:41<07:10, 20.50s/it]"
          ]
        },
        {
          "output_type": "stream",
          "name": "stdout",
          "text": [
            "epoch train loss:  -456.3483904899435\n"
          ]
        },
        {
          "output_type": "stream",
          "name": "stderr",
          "text": [
            "train - epoch : 179: 100%|██████████| 235/235 [00:17<00:00, 13.35it/s, det=1279.1436767578125, log=-823.7474975585938, loss=-455.396240234375]\n",
            "test - epoch : 179: 100%|██████████| 40/40 [00:02<00:00, 14.04it/s, loss=-490.75738525390625]\n",
            " 90%|█████████ | 180/200 [1:00:02<06:49, 20.50s/it]"
          ]
        },
        {
          "output_type": "stream",
          "name": "stdout",
          "text": [
            "epoch train loss:  -456.3272533660239\n"
          ]
        },
        {
          "output_type": "stream",
          "name": "stderr",
          "text": [
            "train - epoch : 180: 100%|██████████| 235/235 [00:18<00:00, 12.96it/s, det=1274.9127197265625, log=-818.9412841796875, loss=-455.97149658203125]\n",
            "test - epoch : 180: 100%|██████████| 40/40 [00:02<00:00, 15.28it/s, loss=-305.2088317871094]\n",
            " 90%|█████████ | 181/200 [1:00:23<06:31, 20.58s/it]"
          ]
        },
        {
          "output_type": "stream",
          "name": "stdout",
          "text": [
            "epoch train loss:  -456.3316950371925\n"
          ]
        },
        {
          "output_type": "stream",
          "name": "stderr",
          "text": [
            "train - epoch : 181: 100%|██████████| 235/235 [00:17<00:00, 13.21it/s, det=1273.9901123046875, log=-828.6356811523438, loss=-445.3543395996094]\n",
            "test - epoch : 181: 100%|██████████| 40/40 [00:02<00:00, 15.23it/s, loss=-489.9314880371094]\n",
            " 91%|█████████ | 182/200 [1:00:43<06:09, 20.54s/it]"
          ]
        },
        {
          "output_type": "stream",
          "name": "stdout",
          "text": [
            "epoch train loss:  -456.30547667158413\n"
          ]
        },
        {
          "output_type": "stream",
          "name": "stderr",
          "text": [
            "train - epoch : 182: 100%|██████████| 235/235 [00:18<00:00, 12.62it/s, det=1270.821533203125, log=-835.4718627929688, loss=-435.349609375]\n",
            "test - epoch : 182: 100%|██████████| 40/40 [00:02<00:00, 16.58it/s, loss=-385.66448974609375]\n",
            " 92%|█████████▏| 183/200 [1:01:04<05:51, 20.69s/it]"
          ]
        },
        {
          "output_type": "stream",
          "name": "stdout",
          "text": [
            "epoch train loss:  -456.28081275452956\n"
          ]
        },
        {
          "output_type": "stream",
          "name": "stderr",
          "text": [
            "train - epoch : 183: 100%|██████████| 235/235 [00:17<00:00, 13.23it/s, det=1294.9835205078125, log=-816.4132690429688, loss=-478.5701904296875]\n",
            "test - epoch : 183: 100%|██████████| 40/40 [00:02<00:00, 16.31it/s, loss=-459.36181640625]\n",
            " 92%|█████████▏| 184/200 [1:01:24<05:28, 20.55s/it]"
          ]
        },
        {
          "output_type": "stream",
          "name": "stdout",
          "text": [
            "epoch train loss:  -456.3974471721243\n"
          ]
        },
        {
          "output_type": "stream",
          "name": "stderr",
          "text": [
            "train - epoch : 184: 100%|██████████| 235/235 [00:17<00:00, 13.07it/s, det=1276.841552734375, log=-819.7919311523438, loss=-457.049560546875]\n",
            "test - epoch : 184: 100%|██████████| 40/40 [00:02<00:00, 14.80it/s, loss=-502.966064453125]\n",
            " 92%|█████████▎| 185/200 [1:01:45<05:08, 20.59s/it]"
          ]
        },
        {
          "output_type": "stream",
          "name": "stdout",
          "text": [
            "epoch train loss:  -456.3419166077959\n"
          ]
        },
        {
          "output_type": "stream",
          "name": "stderr",
          "text": [
            "train - epoch : 185: 100%|██████████| 235/235 [00:17<00:00, 13.39it/s, det=1284.4346923828125, log=-830.1693725585938, loss=-454.2653503417969]\n",
            "test - epoch : 185: 100%|██████████| 40/40 [00:02<00:00, 16.10it/s, loss=-500.266357421875]\n",
            " 93%|█████████▎| 186/200 [1:02:05<04:46, 20.43s/it]"
          ]
        },
        {
          "output_type": "stream",
          "name": "stdout",
          "text": [
            "epoch train loss:  -456.33714859333446\n"
          ]
        },
        {
          "output_type": "stream",
          "name": "stderr",
          "text": [
            "train - epoch : 186: 100%|██████████| 235/235 [00:17<00:00, 13.46it/s, det=1271.48095703125, log=-831.667236328125, loss=-439.813720703125]\n",
            "test - epoch : 186: 100%|██████████| 40/40 [00:03<00:00, 12.91it/s, loss=-445.061767578125]\n",
            " 94%|█████████▎| 187/200 [1:02:26<04:26, 20.47s/it]"
          ]
        },
        {
          "output_type": "stream",
          "name": "stdout",
          "text": [
            "epoch train loss:  -456.30002298558014\n"
          ]
        },
        {
          "output_type": "stream",
          "name": "stderr",
          "text": [
            "train - epoch : 187: 100%|██████████| 235/235 [00:17<00:00, 13.44it/s, det=1272.4466552734375, log=-824.4747924804688, loss=-447.9718933105469]\n",
            "test - epoch : 187: 100%|██████████| 40/40 [00:02<00:00, 16.68it/s, loss=-460.70965576171875]\n",
            " 94%|█████████▍| 188/200 [1:02:46<04:03, 20.30s/it]"
          ]
        },
        {
          "output_type": "stream",
          "name": "stdout",
          "text": [
            "epoch train loss:  -456.3232256950216\n"
          ]
        },
        {
          "output_type": "stream",
          "name": "stderr",
          "text": [
            "train - epoch : 188: 100%|██████████| 235/235 [00:17<00:00, 13.36it/s, det=1280.2208251953125, log=-825.344482421875, loss=-454.876220703125]\n",
            "test - epoch : 188: 100%|██████████| 40/40 [00:02<00:00, 14.07it/s, loss=-440.7806396484375]\n",
            " 94%|█████████▍| 189/200 [1:03:06<03:43, 20.35s/it]"
          ]
        },
        {
          "output_type": "stream",
          "name": "stdout",
          "text": [
            "epoch train loss:  -456.3432345775848\n"
          ]
        },
        {
          "output_type": "stream",
          "name": "stderr",
          "text": [
            "train - epoch : 189: 100%|██████████| 235/235 [00:18<00:00, 12.75it/s, det=1301.280517578125, log=-827.5914916992188, loss=-473.6890869140625]\n",
            "test - epoch : 189: 100%|██████████| 40/40 [00:02<00:00, 16.26it/s, loss=-406.1674499511719]\n",
            " 95%|█████████▌| 190/200 [1:03:27<03:25, 20.51s/it]"
          ]
        },
        {
          "output_type": "stream",
          "name": "stdout",
          "text": [
            "epoch train loss:  -456.39450216090427\n"
          ]
        },
        {
          "output_type": "stream",
          "name": "stderr",
          "text": [
            "train - epoch : 190: 100%|██████████| 235/235 [00:17<00:00, 13.36it/s, det=1287.0501708984375, log=-822.2965698242188, loss=-464.753662109375]\n",
            "test - epoch : 190: 100%|██████████| 40/40 [00:02<00:00, 16.46it/s, loss=-448.41571044921875]\n",
            " 96%|█████████▌| 191/200 [1:03:47<03:03, 20.37s/it]"
          ]
        },
        {
          "output_type": "stream",
          "name": "stdout",
          "text": [
            "epoch train loss:  -456.37296636053856\n"
          ]
        },
        {
          "output_type": "stream",
          "name": "stderr",
          "text": [
            "train - epoch : 191: 100%|██████████| 235/235 [00:18<00:00, 12.70it/s, det=1297.10205078125, log=-818.9909057617188, loss=-478.1112060546875]\n",
            "test - epoch : 191: 100%|██████████| 40/40 [00:02<00:00, 16.50it/s, loss=-423.61248779296875]\n",
            " 96%|█████████▌| 192/200 [1:04:08<02:44, 20.54s/it]"
          ]
        },
        {
          "output_type": "stream",
          "name": "stdout",
          "text": [
            "epoch train loss:  -456.40941356902425\n"
          ]
        },
        {
          "output_type": "stream",
          "name": "stderr",
          "text": [
            "train - epoch : 192: 100%|██████████| 235/235 [00:17<00:00, 13.28it/s, det=1270.354736328125, log=-829.06884765625, loss=-441.2859802246094]\n",
            "test - epoch : 192: 100%|██████████| 40/40 [00:02<00:00, 16.37it/s, loss=-503.75836181640625]\n",
            " 96%|█████████▋| 193/200 [1:04:28<02:23, 20.43s/it]"
          ]
        },
        {
          "output_type": "stream",
          "name": "stdout",
          "text": [
            "epoch train loss:  -456.31269401387965\n"
          ]
        },
        {
          "output_type": "stream",
          "name": "stderr",
          "text": [
            "train - epoch : 193: 100%|██████████| 235/235 [00:17<00:00, 13.13it/s, det=1267.7755126953125, log=-838.6683349609375, loss=-429.10711669921875]\n",
            "test - epoch : 193: 100%|██████████| 40/40 [00:02<00:00, 13.68it/s, loss=-430.58966064453125]\n",
            " 97%|█████████▋| 194/200 [1:04:49<02:03, 20.55s/it]"
          ]
        },
        {
          "output_type": "stream",
          "name": "stdout",
          "text": [
            "epoch train loss:  -456.2814969975898\n"
          ]
        },
        {
          "output_type": "stream",
          "name": "stderr",
          "text": [
            "train - epoch : 194: 100%|██████████| 235/235 [00:17<00:00, 13.37it/s, det=1286.691162109375, log=-823.2298583984375, loss=-463.46136474609375]\n",
            "test - epoch : 194: 100%|██████████| 40/40 [00:02<00:00, 16.93it/s, loss=-479.864013671875]\n",
            " 98%|█████████▊| 195/200 [1:05:09<01:41, 20.37s/it]"
          ]
        },
        {
          "output_type": "stream",
          "name": "stdout",
          "text": [
            "epoch train loss:  -456.3740425272191\n"
          ]
        },
        {
          "output_type": "stream",
          "name": "stderr",
          "text": [
            "train - epoch : 195: 100%|██████████| 235/235 [00:17<00:00, 13.44it/s, det=1288.04150390625, log=-827.4095458984375, loss=-460.6319274902344]\n",
            "test - epoch : 195: 100%|██████████| 40/40 [00:03<00:00, 12.77it/s, loss=-492.37249755859375]\n",
            " 98%|█████████▊| 196/200 [1:05:29<01:21, 20.45s/it]"
          ]
        },
        {
          "output_type": "stream",
          "name": "stdout",
          "text": [
            "epoch train loss:  -456.36814289498835\n"
          ]
        },
        {
          "output_type": "stream",
          "name": "stderr",
          "text": [
            "train - epoch : 196: 100%|██████████| 235/235 [00:17<00:00, 13.13it/s, det=1287.27490234375, log=-823.254638671875, loss=-464.020263671875]\n",
            "test - epoch : 196: 100%|██████████| 40/40 [00:02<00:00, 16.57it/s, loss=-476.01605224609375]\n",
            " 98%|█████████▊| 197/200 [1:05:50<01:01, 20.42s/it]"
          ]
        },
        {
          "output_type": "stream",
          "name": "stdout",
          "text": [
            "epoch train loss:  -456.37808578166556\n"
          ]
        },
        {
          "output_type": "stream",
          "name": "stderr",
          "text": [
            "train - epoch : 197: 100%|██████████| 235/235 [00:17<00:00, 13.55it/s, det=1284.4122314453125, log=-830.6090087890625, loss=-453.80316162109375]\n",
            "test - epoch : 197: 100%|██████████| 40/40 [00:02<00:00, 15.35it/s, loss=-408.245849609375]\n",
            " 99%|█████████▉| 198/200 [1:06:10<00:40, 20.28s/it]"
          ]
        },
        {
          "output_type": "stream",
          "name": "stdout",
          "text": [
            "epoch train loss:  -456.3518409242021\n"
          ]
        },
        {
          "output_type": "stream",
          "name": "stderr",
          "text": [
            "train - epoch : 198: 100%|██████████| 235/235 [00:18<00:00, 12.88it/s, det=1277.212646484375, log=-832.0270385742188, loss=-445.185546875]\n",
            "test - epoch : 198: 100%|██████████| 40/40 [00:02<00:00, 16.20it/s, loss=-525.1157836914062]\n",
            "100%|█████████▉| 199/200 [1:06:30<00:20, 20.42s/it]"
          ]
        },
        {
          "output_type": "stream",
          "name": "stdout",
          "text": [
            "epoch train loss:  -456.3298529442321\n"
          ]
        },
        {
          "output_type": "stream",
          "name": "stderr",
          "text": [
            "train - epoch : 199: 100%|██████████| 235/235 [00:17<00:00, 13.45it/s, det=1286.821044921875, log=-832.10009765625, loss=-454.720947265625]\n",
            "test - epoch : 199: 100%|██████████| 40/40 [00:02<00:00, 16.79it/s, loss=-447.04010009765625]\n",
            "100%|██████████| 200/200 [1:06:50<00:00, 20.05s/it]\n"
          ]
        },
        {
          "output_type": "stream",
          "name": "stdout",
          "text": [
            "epoch train loss:  -456.3560981912816\n"
          ]
        },
        {
          "output_type": "display_data",
          "data": {
            "text/plain": [
              "<Figure size 400x400 with 1 Axes>"
            ],
            "image/png": "[encoded data removed]"
          },
          "metadata": {}
        }
      ]
    },
    {
      "cell_type": "markdown",
      "source": [
        "## Generate samples"
      ],
      "metadata": {
        "id": "Gt_iXkw58zDr"
      }
    },
    {
      "cell_type": "code",
      "source": [
        "plot_samples(model)"
      ],
      "metadata": {
        "colab": {
          "base_uri": "https://localhost:8080/",
          "height": 732
        },
        "id": "50ZWdU6icQ8t",
        "outputId": "09b1251d-8eb5-40db-fc8e-1d4f28787945"
      },
      "execution_count": 24,
      "outputs": [
        {
          "output_type": "display_data",
          "data": {
            "text/plain": [
              "<Figure size 800x800 with 16 Axes>"
            ],
            "image/png": "[encoded data removed]"
          },
          "metadata": {}
        }
      ]
    },
    {
      "cell_type": "code",
      "source": [
        "plot_samples(model)"
      ],
      "metadata": {
        "colab": {
          "base_uri": "https://localhost:8080/",
          "height": 732
        },
        "id": "h3w_wVnIBcdl",
        "outputId": "2fe1b7f7-4fc9-4684-dfee-8822d3df32dd"
      },
      "execution_count": 15,
      "outputs": [
        {
          "output_type": "display_data",
          "data": {
            "text/plain": [
              "<Figure size 800x800 with 16 Axes>"
            ],
            "image/png": "[encoded data removed]"
          },
          "metadata": {}
        }
      ]
    },
    {
      "cell_type": "code",
      "source": [],
      "metadata": {
        "id": "XbNfYqpLtJBx"
      },
      "execution_count": null,
      "outputs": []
    }
  ]
}